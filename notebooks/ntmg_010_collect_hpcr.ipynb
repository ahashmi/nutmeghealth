{
 "cells": [
  {
   "cell_type": "code",
   "execution_count": 2,
   "id": "5e67f399-87f7-4104-918f-597dcf5eb2a1",
   "metadata": {},
   "outputs": [],
   "source": [
    "from pathlib import Path\n",
    "import requests\n",
    "from bs4 import BeautifulSoup"
   ]
  },
  {
   "cell_type": "markdown",
   "id": "59f99548-84dc-4670-b106-4333cdc51978",
   "metadata": {},
   "source": [
    "## Hospital Provider Cost Report (CMS)\n",
    "\n",
    "ref: [API Documentation](https://data.cms.gov/provider-compliance/cost-report/hospital-provider-cost-report/api-docs)"
   ]
  },
  {
   "cell_type": "code",
   "execution_count": 3,
   "id": "d490c230-eaf2-4103-9340-88ae74d6a48e",
   "metadata": {},
   "outputs": [],
   "source": [
    "CMS_DATA = 'http://data.cms.gov/'\n",
    "CMS_DATA_API = CMS_DATA + 'data-api/v1/dataset'\n",
    "# NOTE: full API requies a UUID followwed by '/data.json' for a downloadable file"
   ]
  },
  {
   "cell_type": "code",
   "execution_count": 5,
   "id": "069d8f38-6970-47bd-a269-7c7f81e53583",
   "metadata": {},
   "outputs": [],
   "source": [
    "HPCR_DOCS = CMS_DATA + 'provider-compliance/cost-report/hospital-provider-cost-report/api-docs'"
   ]
  },
  {
   "cell_type": "code",
   "execution_count": 31,
   "id": "11b8afb4-8daa-4987-a791-b12f85c673d7",
   "metadata": {},
   "outputs": [
    {
     "data": {
      "text/plain": [
       "200"
      ]
     },
     "execution_count": 31,
     "metadata": {},
     "output_type": "execute_result"
    }
   ],
   "source": [
    "\n",
    "meta_resp = requests.get(enrl_meta_api)\n",
    "meta_resp.status_code"
   ]
  },
  {
   "cell_type": "code",
   "execution_count": 32,
   "id": "d560d92c-f75f-4816-aafa-23782062082d",
   "metadata": {},
   "outputs": [
    {
     "data": {
      "text/plain": [
       "{'title': 'State Medicaid and CHIP Applications, Eligibility Determinations, and Enrollment Data',\n",
       " 'description': 'All states (including the District of Columbia) are required to provide data to The Centers for Medicare &amp; Medicaid Services (CMS) on a range of indicators related to key application, eligibility, and enrollment processes within the state Medicaid and Children’s Health Insurance Programs (CHIP). These data reflect enrollment activity for all populations receiving comprehensive Medicaid and CHIP benefits in all states, as well as state program performance.',\n",
       " 'modified': '2022-11-29T12:30:00+00:00',\n",
       " 'downloads': ['https://data.medicaid.gov/sites/default/files/uploaded_resources/StateMedicaidandCHIPApplicationsEligibilityDeterminationsandEnrollmentDataAugust2022.csv']}"
      ]
     },
     "execution_count": 32,
     "metadata": {},
     "output_type": "execute_result"
    }
   ],
   "source": [
    "meta_keys = ['title', 'description', 'modified']\n",
    "meta_data = {k:v for k,v in resp.json().items() if k in meta_keys}\n",
    "meta_data['downloads'] = []\n",
    "for dist in meta_resp.json()['distribution']:\n",
    "    meta_data['downloads'].append(dist['downloadURL'])\n",
    "meta_data"
   ]
  },
  {
   "cell_type": "markdown",
   "id": "8ce47e9f-d4fb-4f20-9e2c-d5f13e771137",
   "metadata": {},
   "source": [
    "To retrieve data, append the specific distribution index to the base url. In this case, the dataset distirbution has only one entry (index = 0)."
   ]
  },
  {
   "cell_type": "code",
   "execution_count": 33,
   "id": "5cca6e9b-d55e-4cf8-9b37-20d4abb2be3e",
   "metadata": {},
   "outputs": [
    {
     "name": "stdout",
     "output_type": "stream",
     "text": [
      "Selected index: 0\n"
     ]
    }
   ],
   "source": [
    "ds_indx = str(len(meta_data['downloads']) - 1)\n",
    "print(f'Selected index: {ds_indx}')"
   ]
  },
  {
   "cell_type": "code",
   "execution_count": 38,
   "id": "9a050aa7-1b62-4118-9c42-005e96e0f021",
   "metadata": {},
   "outputs": [],
   "source": [
    "# query to return records - add distribution index\n",
    "enrl_data_api = '/'.join([MDCD_DATA, data_endpoint, ENRL_DATA_ID, ds_indx])"
   ]
  },
  {
   "cell_type": "code",
   "execution_count": 39,
   "id": "ea4f8f2d-8759-4aa8-8c49-831a60707da8",
   "metadata": {},
   "outputs": [],
   "source": [
    "payload = {\n",
    "    'limit': 10,\n",
    "    'offset': 0,\n",
    "}"
   ]
  },
  {
   "cell_type": "code",
   "execution_count": 43,
   "id": "226fa071-3e02-4ccf-99b8-ae55874cb2e0",
   "metadata": {},
   "outputs": [
    {
     "data": {
      "text/plain": [
       "200"
      ]
     },
     "execution_count": 43,
     "metadata": {},
     "output_type": "execute_result"
    }
   ],
   "source": [
    "data_resp = requests.get(enrl_data_api, params=payload)\n",
    "data_resp.status_code"
   ]
  },
  {
   "cell_type": "code",
   "execution_count": 47,
   "id": "519cfc5b-cea5-43dc-8544-090eb753b98f",
   "metadata": {},
   "outputs": [],
   "source": [
    "data_keys = ['state_name', 'report_date', 'preliminary_updated', 'final_report', 'total_medicaid_and_chip_enrollment']"
   ]
  },
  {
   "cell_type": "code",
   "execution_count": 66,
   "id": "2f55ddca-e789-4747-b4e6-b27de9063961",
   "metadata": {},
   "outputs": [
    {
     "name": "stdout",
     "output_type": "stream",
     "text": [
      "1: {'state_name': 'Alabama', 'report_date': '2013-09-01', 'preliminary_updated': 'U', 'final_report': 'Y', 'total_medicaid_and_chip_enrollment': '799176'}\n",
      "2: {'state_name': 'Alabama', 'report_date': '2017-06-01', 'preliminary_updated': 'P', 'final_report': 'N', 'total_medicaid_and_chip_enrollment': '888314'}\n",
      "3: {'state_name': 'Alabama', 'report_date': '2017-06-01', 'preliminary_updated': 'U', 'final_report': 'Y', 'total_medicaid_and_chip_enrollment': '888314'}\n",
      "4: {'state_name': 'Alabama', 'report_date': '2017-07-01', 'preliminary_updated': 'P', 'final_report': 'N', 'total_medicaid_and_chip_enrollment': '893193'}\n",
      "5: {'state_name': 'Alabama', 'report_date': '2017-07-01', 'preliminary_updated': 'U', 'final_report': 'Y', 'total_medicaid_and_chip_enrollment': '893193'}\n",
      "6: {'state_name': 'Alabama', 'report_date': '2017-08-01', 'preliminary_updated': 'P', 'final_report': 'N', 'total_medicaid_and_chip_enrollment': '893261'}\n",
      "7: {'state_name': 'Alabama', 'report_date': '2017-08-01', 'preliminary_updated': 'U', 'final_report': 'Y', 'total_medicaid_and_chip_enrollment': '893262'}\n",
      "8: {'state_name': 'Alabama', 'report_date': '2017-09-01', 'preliminary_updated': 'P', 'final_report': 'N', 'total_medicaid_and_chip_enrollment': '892651'}\n",
      "9: {'state_name': 'Alabama', 'report_date': '2017-09-01', 'preliminary_updated': 'U', 'final_report': 'Y', 'total_medicaid_and_chip_enrollment': '892651'}\n",
      "10: {'state_name': 'Alabama', 'report_date': '2017-10-01', 'preliminary_updated': 'P', 'final_report': 'N', 'total_medicaid_and_chip_enrollment': '894251'}\n"
     ]
    }
   ],
   "source": [
    "for n, rslt in enumerate(data_resp.json()['results'], start=1):\n",
    "    data = {k:v for k,v in rslt.items() if k in data_keys}\n",
    "    print(f'{n}: {data}')"
   ]
  },
  {
   "cell_type": "code",
   "execution_count": 54,
   "id": "b2a9a0ce-c443-449a-8f35-928c334d74b1",
   "metadata": {},
   "outputs": [],
   "source": [
    "data_dir = Path.cwd().parent / 'DATA'\n",
    "enrl_dir = data_dir / 'enrl'\n",
    "enrl_dir.mkdir(exist_ok=True)"
   ]
  },
  {
   "cell_type": "code",
   "execution_count": 53,
   "id": "3e16bb20-1119-431f-97e2-b7a4c509269c",
   "metadata": {},
   "outputs": [
    {
     "data": {
      "text/plain": [
       "200"
      ]
     },
     "execution_count": 53,
     "metadata": {},
     "output_type": "execute_result"
    }
   ],
   "source": [
    "csv_endpoint = meta_data['downloads'][int(ds_indx)]\n",
    "csv_resp = requests.get(csv_endpoint)\n",
    "csv_resp.status_code"
   ]
  },
  {
   "cell_type": "code",
   "execution_count": 60,
   "id": "144f9f30-633b-4768-8af1-fc67be9c5410",
   "metadata": {},
   "outputs": [],
   "source": [
    "csv_name = csv_endpoint.split('/')[-1]\n",
    "csv_name = csv_name.replace('StateMedicaidandCHIPApplicationsEligibilityDeterminationsand', '')"
   ]
  },
  {
   "cell_type": "code",
   "execution_count": 61,
   "id": "3de5e5dd-4895-4d4f-ab91-1d29dea3e1ce",
   "metadata": {},
   "outputs": [],
   "source": [
    "CHUNK_SZ = 256"
   ]
  },
  {
   "cell_type": "code",
   "execution_count": 64,
   "id": "7e030956-77a5-429d-b995-467b775787df",
   "metadata": {},
   "outputs": [
    {
     "name": "stdout",
     "output_type": "stream",
     "text": [
      "downloaded to EnrollmentDataAugust2022.csv\n",
      "-- filesize: 1,256 kB\n"
     ]
    }
   ],
   "source": [
    "filename = enrl_dir / csv_name\n",
    "## download\n",
    "with open(filename, 'wb') as fd:\n",
    "    for chunk in csv_resp.iter_content(chunk_size=CHUNK_SZ):\n",
    "        fd.write(chunk)\n",
    "    print(f'downloaded to {csv_name}')\n",
    "    fl_sz = round(filename.stat().st_size / 1024)\n",
    "    print(f'-- filesize: {fl_sz:,} kB')"
   ]
  },
  {
   "cell_type": "code",
   "execution_count": null,
   "id": "4e74fa7e-ef52-4591-a880-2fc91d7890e8",
   "metadata": {},
   "outputs": [],
   "source": []
  }
 ],
 "metadata": {
  "kernelspec": {
   "display_name": "Python 3 (ipykernel)",
   "language": "python",
   "name": "python3"
  },
  "language_info": {
   "codemirror_mode": {
    "name": "ipython",
    "version": 3
   },
   "file_extension": ".py",
   "mimetype": "text/x-python",
   "name": "python",
   "nbconvert_exporter": "python",
   "pygments_lexer": "ipython3",
   "version": "3.10.0"
  }
 },
 "nbformat": 4,
 "nbformat_minor": 5
}
