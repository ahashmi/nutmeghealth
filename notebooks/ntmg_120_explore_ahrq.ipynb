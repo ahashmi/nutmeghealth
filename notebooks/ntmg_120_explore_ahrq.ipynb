{
 "cells": [
  {
   "cell_type": "code",
   "execution_count": 5,
   "id": "7181b81f-0438-4cad-bf1a-c0ed635e06ed",
   "metadata": {},
   "outputs": [],
   "source": [
    "from pathlib import Path\n",
    "import pandas as pd\n",
    "import sys\n",
    "sys.path.append(str(Path.cwd().parent))"
   ]
  },
  {
   "cell_type": "markdown",
   "id": "1e6c44fe-fcd4-495b-95cb-f1af6bfb28c4",
   "metadata": {},
   "source": [
    "Healthcare Cost and Utilization Project (HCUP) Fast Stats\n",
    "<https://datatools.ahrq.gov/hcup-fast-stats>"
   ]
  },
  {
   "cell_type": "code",
   "execution_count": 6,
   "id": "db487a63-0670-4974-8a3d-a099e3f5d4a8",
   "metadata": {},
   "outputs": [],
   "source": [
    "from scripts.config import paths"
   ]
  },
  {
   "cell_type": "code",
   "execution_count": 7,
   "id": "0259bd6b-2e10-4702-98de-551172815cf9",
   "metadata": {},
   "outputs": [],
   "source": [
    "ahrq_dir = paths[\"data\"] / \"ahrq\""
   ]
  },
  {
   "cell_type": "code",
   "execution_count": 10,
   "id": "32b69a1b-b622-4e43-9d8a-346443d7e5d9",
   "metadata": {},
   "outputs": [
    {
     "name": "stdout",
     "output_type": "stream",
     "text": [
      "DownloadTable_NAS_11-9-22.xls\n",
      "DownloadTable_Opioids_11-18-22.xls\n",
      "DownloadTable_SMM_11-11-22.xls\n",
      "DownloadTable_StatePayerED_11-23-22.xls\n",
      "DownloadTable_StatePayerIP_11-8-22.xls\n"
     ]
    }
   ],
   "source": [
    "xls_files = {}\n",
    "for f in ahrq_dir.glob('*.xls'):\n",
    "    print(f.name)\n",
    "    _, ftype, fdate = f.name.split('_')\n",
    "    xls_files[ftype] = {\n",
    "        'file': f,\n",
    "        'date': fdate,\n",
    "    }"
   ]
  },
  {
   "cell_type": "code",
   "execution_count": null,
   "id": "da8938a8-5f16-4ca6-8270-dfa96282c339",
   "metadata": {},
   "outputs": [],
   "source": []
  },
  {
   "cell_type": "code",
   "execution_count": 11,
   "id": "8a35e043-b1ca-4e37-9754-2a3c619ddcf0",
   "metadata": {},
   "outputs": [],
   "source": [
    "ip_file = pd.ExcelFile(xls_files['StatePayerIP']['file'])"
   ]
  },
  {
   "cell_type": "code",
   "execution_count": 20,
   "id": "339bc06d-d002-4cab-883d-237ea1a914cc",
   "metadata": {},
   "outputs": [
    {
     "name": "stdout",
     "output_type": "stream",
     "text": [
      "Data\n",
      "Index(['State', 'Hospitalization Type', 'Expected Payer', '2003 Q1', '2003 Q2',\n",
      "       '2003 Q3', '2003 Q4', '2004 Q1', '2004 Q2', '2004 Q3', '2004 Q4',\n",
      "       '2005 Q1', '2005 Q2', '2005 Q3', '2005 Q4', '2006 Q1', '2006 Q2',\n",
      "       '2006 Q3', '2006 Q4', '2007 Q1', '2007 Q2', '2007 Q3', '2007 Q4',\n",
      "       '2008 Q1', '2008 Q2', '2008 Q3', '2008 Q4', '2009 Q1', '2009 Q2',\n",
      "       '2009 Q3', '2009 Q4', '2010 Q1', '2010 Q2', '2010 Q3', '2010 Q4',\n",
      "       '2011 Q1', '2011 Q2', '2011 Q3', '2011 Q4', '2012 Q1', '2012 Q2',\n",
      "       '2012 Q3', '2012 Q4', '2013 Q1', '2013 Q2', '2013 Q3', '2013 Q4',\n",
      "       '2014 Q1', '2014 Q2', '2014 Q3', '2014 Q4', '2015 Q1', '2015 Q2',\n",
      "       '2015 Q3', '2015 Q4', '2016 Q1', '2016 Q2', '2016 Q3', '2016 Q4',\n",
      "       '2017 Q1', '2017 Q2', '2017 Q3', '2017 Q4', '2018 Q1', '2018 Q2',\n",
      "       '2018 Q3', '2018 Q4', '2019 Q1', '2019 Q2', '2019 Q3', '2019 Q4',\n",
      "       '2020 Q1', '2020 Q2', '2020 Q3', '2020 Q4', '2021 Q1', '2021 Q2',\n",
      "       '2021 Q3', '2021 Q4', '2022 Q1', '2022 Q2'],\n",
      "      dtype='object')\n",
      "Asthma Data\n",
      "Index(['Alaska', 'Medical Cond-Asthma', 'Medicaid', 'Unnamed: 3', 'Unnamed: 4',\n",
      "       'Unnamed: 5', 'Unnamed: 6', 'Unnamed: 7', 'Unnamed: 8', 'Unnamed: 9',\n",
      "       'Unnamed: 10', 'Unnamed: 11', 'Unnamed: 12', 'Unnamed: 13',\n",
      "       'Unnamed: 14', 'Unnamed: 15', 'Unnamed: 16', 'Unnamed: 17',\n",
      "       'Unnamed: 18', 'Unnamed: 19', 'Unnamed: 20', 'Unnamed: 21',\n",
      "       'Unnamed: 22', 'Unnamed: 23', 'Unnamed: 24', 'Unnamed: 25',\n",
      "       'Unnamed: 26', 'Unnamed: 27', 'Unnamed: 28', 'Unnamed: 29',\n",
      "       'Unnamed: 30', 'Unnamed: 31', 'Unnamed: 32', 'Unnamed: 33',\n",
      "       'Unnamed: 34', 'Unnamed: 35', 'Unnamed: 36', 'Unnamed: 37',\n",
      "       'Unnamed: 38', 'Unnamed: 39', 'Unnamed: 40', 'Unnamed: 41',\n",
      "       'Unnamed: 42', 'Unnamed: 43', 'Unnamed: 44', 'Unnamed: 45',\n",
      "       'Unnamed: 46', 'Unnamed: 47', 'Unnamed: 48', 'Unnamed: 49',\n",
      "       'Unnamed: 50', 'Unnamed: 51', 'Unnamed: 52', 'Unnamed: 53',\n",
      "       'Unnamed: 54', 'Unnamed: 55', 'Unnamed: 56', 'Unnamed: 57',\n",
      "       'Unnamed: 58', 'Unnamed: 59', 'Unnamed: 60', 'Unnamed: 61',\n",
      "       'Unnamed: 62', 'Unnamed: 63', 'Unnamed: 64'],\n",
      "      dtype='object')\n",
      "CHF Data\n",
      "Index([         'Arizona', 'Medical Cond-CHF',         'Medicaid',\n",
      "                      200,            '200.1',            '200.2',\n",
      "                  '200.3',            '200.4',            '200.5',\n",
      "                      250,                300,                350,\n",
      "                  '300.1',            '300.2',            '300.3',\n",
      "                  '350.1',            '300.4',            '250.1',\n",
      "                  '300.5',            '300.6',            '300.7',\n",
      "                  '250.2',            '250.3',            '300.8',\n",
      "                  '200.6',            '250.4',            '250.5',\n",
      "                  '300.9',           '300.10',           '300.11',\n",
      "                  '250.6',            '350.2',           '300.12',\n",
      "                 '300.13',           '300.14',           '300.15',\n",
      "                  '250.7',            '250.8',            '200.7',\n",
      "                  '200.8',            '200.9',           '200.10',\n",
      "                 '200.11',            '250.9',           '250.10',\n",
      "                 '200.12',           '200.13',            '350.3',\n",
      "                  '350.4',            '350.5',            '350.6',\n",
      "                      450,            '450.1',                400,\n",
      "                  '400.1',            '450.2',            '450.3',\n",
      "            'Unnamed: 57'],\n",
      "      dtype='object')\n",
      "Diabetes Data\n",
      "Index([               'Alaska', 'Medical Cond-Diabetes',\n",
      "                    'Medicaid',            'Unnamed: 3',\n",
      "                  'Unnamed: 4',            'Unnamed: 5',\n",
      "                  'Unnamed: 6',            'Unnamed: 7',\n",
      "                  'Unnamed: 8',            'Unnamed: 9',\n",
      "                 'Unnamed: 10',           'Unnamed: 11',\n",
      "                 'Unnamed: 12',           'Unnamed: 13',\n",
      "                 'Unnamed: 14',           'Unnamed: 15',\n",
      "                 'Unnamed: 16',           'Unnamed: 17',\n",
      "                 'Unnamed: 18',           'Unnamed: 19',\n",
      "                 'Unnamed: 20',           'Unnamed: 21',\n",
      "                 'Unnamed: 22',           'Unnamed: 23',\n",
      "                 'Unnamed: 24',           'Unnamed: 25',\n",
      "                 'Unnamed: 26',           'Unnamed: 27',\n",
      "                 'Unnamed: 28',           'Unnamed: 29',\n",
      "                 'Unnamed: 30',           'Unnamed: 31',\n",
      "                 'Unnamed: 32',           'Unnamed: 33',\n",
      "                 'Unnamed: 34',           'Unnamed: 35',\n",
      "                 'Unnamed: 36',           'Unnamed: 37',\n",
      "                 'Unnamed: 38',           'Unnamed: 39',\n",
      "                 'Unnamed: 40',           'Unnamed: 41',\n",
      "                 'Unnamed: 42',           'Unnamed: 43',\n",
      "                 'Unnamed: 44',           'Unnamed: 45',\n",
      "                 'Unnamed: 46',           'Unnamed: 47',\n",
      "                 'Unnamed: 48',           'Unnamed: 49',\n",
      "                 'Unnamed: 50',           'Unnamed: 51',\n",
      "                 'Unnamed: 52',                      50,\n",
      "                        '50.1',                  '50.2',\n",
      "                        '50.3',                  '50.4',\n",
      "                           100,           'Unnamed: 59',\n",
      "                 'Unnamed: 60',           'Unnamed: 61',\n",
      "                 'Unnamed: 62',           'Unnamed: 63',\n",
      "                 'Unnamed: 64'],\n",
      "      dtype='object')\n"
     ]
    }
   ],
   "source": [
    "ip_data = {}\n",
    "for sheet_nm, df in pd.read_excel(ip_file, sheet_name=None, header=3).items():\n",
    "    if sheet_nm.split()[-1] == 'Data':\n",
    "        ip_data[sheet_nm] = df\n",
    "        print(sheet_nm)\n",
    "        print(df.columns)"
   ]
  },
  {
   "cell_type": "code",
   "execution_count": 14,
   "id": "a215aaeb-59f2-4fb9-92b7-8cb32465f4e0",
   "metadata": {},
   "outputs": [
    {
     "data": {
      "text/plain": [
       "7"
      ]
     },
     "execution_count": 14,
     "metadata": {},
     "output_type": "execute_result"
    }
   ],
   "source": [
    "len(dfs)"
   ]
  },
  {
   "cell_type": "code",
   "execution_count": 17,
   "id": "9ab53362-12e7-44ba-917f-430419a6f7dd",
   "metadata": {},
   "outputs": [
    {
     "data": {
      "text/plain": [
       "dict_keys(['Data', 'Asthma Data', 'CHF Data', 'Diabetes Data'])"
      ]
     },
     "execution_count": 17,
     "metadata": {},
     "output_type": "execute_result"
    }
   ],
   "source": [
    "ip_data.keys()"
   ]
  },
  {
   "cell_type": "code",
   "execution_count": null,
   "id": "2a500359-ad95-488e-aa92-142d6819aec3",
   "metadata": {},
   "outputs": [],
   "source": []
  }
 ],
 "metadata": {
  "kernelspec": {
   "display_name": "Python 3 (ipykernel)",
   "language": "python",
   "name": "python3"
  },
  "language_info": {
   "codemirror_mode": {
    "name": "ipython",
    "version": 3
   },
   "file_extension": ".py",
   "mimetype": "text/x-python",
   "name": "python",
   "nbconvert_exporter": "python",
   "pygments_lexer": "ipython3",
   "version": "3.10.0"
  }
 },
 "nbformat": 4,
 "nbformat_minor": 5
}
