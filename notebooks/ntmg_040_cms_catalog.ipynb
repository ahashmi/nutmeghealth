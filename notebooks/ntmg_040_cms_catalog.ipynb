{
 "cells": [
  {
   "cell_type": "code",
   "execution_count": 1,
   "id": "3b564be3-275c-403b-a2c1-30d21d483cfa",
   "metadata": {},
   "outputs": [],
   "source": [
    "import requests\n",
    "import json"
   ]
  },
  {
   "cell_type": "markdown",
   "id": "8044b352-5976-4a50-9f4a-1539263e7ec7",
   "metadata": {},
   "source": [
    "# Exploring the Data.CMS.Gov Public API Open Data Catalog\n",
    "\n",
    "ref: <https://data.cms.gov/api-docs>"
   ]
  },
  {
   "cell_type": "code",
   "execution_count": 3,
   "id": "e6f59b4c-226f-4e46-a373-29823546c0d4",
   "metadata": {},
   "outputs": [],
   "source": [
    "CMS_DATA = 'https://data.cms.gov'\n",
    "catalog_endpoint = CMS_DATA + '/data.json'"
   ]
  },
  {
   "cell_type": "code",
   "execution_count": 4,
   "id": "84b7b333-13b6-436c-96ac-904eb2b67a45",
   "metadata": {},
   "outputs": [],
   "source": [
    "resp = requests.get(catalog_endpoint)"
   ]
  },
  {
   "cell_type": "code",
   "execution_count": 5,
   "id": "cf19ab13-2535-4618-849d-c4c92189a8cd",
   "metadata": {},
   "outputs": [
    {
     "data": {
      "text/plain": [
       "200"
      ]
     },
     "execution_count": 5,
     "metadata": {},
     "output_type": "execute_result"
    }
   ],
   "source": [
    "resp.status_code"
   ]
  },
  {
   "cell_type": "code",
   "execution_count": 6,
   "id": "bb097b18-ebda-4366-971c-9191e0b9481d",
   "metadata": {},
   "outputs": [],
   "source": [
    "catalog = resp.json()"
   ]
  },
  {
   "cell_type": "code",
   "execution_count": 14,
   "id": "76dd9129-4455-43d1-9b7c-eb8295322032",
   "metadata": {},
   "outputs": [
    {
     "data": {
      "text/plain": [
       "{'@type': 'dcat:Dataset',\n",
       " 'accessLevel': 'public',\n",
       " 'accrualPeriodicity': 'R/P1M',\n",
       " 'bureauCode': ['009:38'],\n",
       " 'contactPoint': {'@type': 'vcard:Contact',\n",
       "  'fn': 'Shared Savings Program - CM',\n",
       "  'hasEmail': 'mailto:SharedSavingsProgram@cms.hhs.gov'},\n",
       " 'describedBy': 'https://data.cms.gov/resources/accountable-care-organization-participants-data-dictionary',\n",
       " 'dataQuality': True,\n",
       " 'description': 'The Accountable Care Organization Participants data presents overview information on ACO participants in the Medicare Shared Savings Program (Shared Savings Program), including their name, track status, number of years in the program, and contact information of key personnel.\\n\\nNOTE: As CMS migrates its data to this new website redesign, datasets are now listed by Month and Year instead of Performance Year; datasets with a PY 2019A naming convention are listed as being updated by CMS monthly but should appear as updated annually.\\n\\nDISCLAIMER: This information is current as of the last update. Changes to ACO information occur periodically. Each ACO has the most up-to-date information about their organization. Consider contacting the ACO for the latest information.',\n",
       " 'distribution': [{'@type': 'dcat:Distribution',\n",
       "   'format': 'API',\n",
       "   'accessURL': 'https://data.cms.gov/data-api/v1/dataset/9767cb68-8ea9-4f0b-8179-9431abc89f11/data',\n",
       "   'description': 'latest',\n",
       "   'title': 'Accountable Care Organization Participants : 2023-01-13',\n",
       "   'modified': '2023-03-06',\n",
       "   'temporal': '2023-01-01/2023-01-31'},\n",
       "  {'@type': 'dcat:Distribution',\n",
       "   'downloadURL': 'https://data.cms.gov/sites/default/files/2023-01/95509a9d-0344-4a5d-9cbb-3adcedbe191f/SSP_ACO_Participants_2023_01_01.csv',\n",
       "   'mediaType': 'text/csv',\n",
       "   'title': 'Accountable Care Organization Participants : 2023-01-13',\n",
       "   'modified': '2023-03-06',\n",
       "   'temporal': '2023-01-01/2023-01-31'},\n",
       "  {'@type': 'dcat:Distribution',\n",
       "   'format': 'API',\n",
       "   'accessURL': 'https://data.cms.gov/data-api/v1/dataset/fd907586-71e8-4128-ad95-801ee1f4f6f0/data',\n",
       "   'title': 'Accountable Care Organization Participants : 2023-01-13',\n",
       "   'modified': '2023-03-06',\n",
       "   'temporal': '2023-01-01/2023-01-31'},\n",
       "  {'@type': 'dcat:Distribution',\n",
       "   'downloadURL': 'https://data.cms.gov/sites/default/files/2022-01/048c24ac-89f8-4ca4-8fd0-a5ed32dcb9b2/SSP_ACO_Participants_2022_01_01.csv',\n",
       "   'mediaType': 'text/csv',\n",
       "   'title': 'Accountable Care Organization Participants : 2022-01-01',\n",
       "   'modified': '2022-01-26',\n",
       "   'temporal': '2022-01-01/2022-01-31'},\n",
       "  {'@type': 'dcat:Distribution',\n",
       "   'format': 'API',\n",
       "   'accessURL': 'https://data.cms.gov/data-api/v1/dataset/5b678653-aa36-455b-9144-1d073ef7991b/data',\n",
       "   'title': 'Accountable Care Organization Participants : 2022-01-01',\n",
       "   'modified': '2022-01-26',\n",
       "   'temporal': '2022-01-01/2022-01-31'},\n",
       "  {'@type': 'dcat:Distribution',\n",
       "   'downloadURL': 'https://data.cms.gov/sites/default/files/2021-11/d3640f80-8b36-4ae2-acf3-b1eced28b314/SSP_ACO_Participants_2021_01_01.csv',\n",
       "   'mediaType': 'application/vnd.ms-excel',\n",
       "   'title': 'Accountable Care Organization Participants : 2021-01-11',\n",
       "   'modified': '2022-01-27',\n",
       "   'temporal': '2021-01-01/2021-01-31'},\n",
       "  {'@type': 'dcat:Distribution',\n",
       "   'format': 'API',\n",
       "   'accessURL': 'https://data.cms.gov/data-api/v1/dataset/7b409bba-ca00-426e-9493-1dc10e5340cc/data',\n",
       "   'title': 'Accountable Care Organization Participants : 2021-01-11',\n",
       "   'modified': '2022-01-27',\n",
       "   'temporal': '2021-01-01/2021-01-31'},\n",
       "  {'@type': 'dcat:Distribution',\n",
       "   'downloadURL': 'https://data.cms.gov/sites/default/files/2021-11/0194cc38-7cf3-4584-a077-0f1e873c635e/SSP_ACO_Participants_2020_01_01.csv',\n",
       "   'mediaType': 'application/vnd.ms-excel',\n",
       "   'title': 'Accountable Care Organization Participants : 2020-01-15',\n",
       "   'modified': '2022-01-27',\n",
       "   'temporal': '2020-01-01/2020-01-31'},\n",
       "  {'@type': 'dcat:Distribution',\n",
       "   'format': 'API',\n",
       "   'accessURL': 'https://data.cms.gov/data-api/v1/dataset/3870b29c-4312-4fb1-a956-71c148ae5b50/data',\n",
       "   'title': 'Accountable Care Organization Participants : 2020-01-15',\n",
       "   'modified': '2022-01-27',\n",
       "   'temporal': '2020-01-01/2020-01-31'},\n",
       "  {'@type': 'dcat:Distribution',\n",
       "   'downloadURL': 'https://data.cms.gov/sites/default/files/2021-11/0e4e117e-cd35-4719-9f0b-d62f1c96b84e/SSP_ACO_Participants_2019_07_01.csv',\n",
       "   'mediaType': 'application/vnd.ms-excel',\n",
       "   'title': 'Accountable Care Organization Participants : 2019-07-31',\n",
       "   'modified': '2022-01-27',\n",
       "   'temporal': '2019-07-01/2019-07-31'},\n",
       "  {'@type': 'dcat:Distribution',\n",
       "   'format': 'API',\n",
       "   'accessURL': 'https://data.cms.gov/data-api/v1/dataset/2c209bdb-ed0c-42e0-b027-8a97024b8035/data',\n",
       "   'title': 'Accountable Care Organization Participants : 2019-07-31',\n",
       "   'modified': '2022-01-27',\n",
       "   'temporal': '2019-07-01/2019-07-31'},\n",
       "  {'@type': 'dcat:Distribution',\n",
       "   'downloadURL': 'https://data.cms.gov/sites/default/files/2021-11/5537ed12-0d9c-4213-9125-180d137ec5a0/SSP_ACO_Participants_2019_01_01.csv',\n",
       "   'mediaType': 'application/vnd.ms-excel',\n",
       "   'title': 'Accountable Care Organization Participants : 2019-01-01',\n",
       "   'modified': '2022-01-27',\n",
       "   'temporal': '2019-01-01/2019-01-31'},\n",
       "  {'@type': 'dcat:Distribution',\n",
       "   'format': 'API',\n",
       "   'accessURL': 'https://data.cms.gov/data-api/v1/dataset/017e6ab7-7e19-4e98-b4fa-30578b47e578/data',\n",
       "   'title': 'Accountable Care Organization Participants : 2019-01-01',\n",
       "   'modified': '2022-01-27',\n",
       "   'temporal': '2019-01-01/2019-01-31'},\n",
       "  {'@type': 'dcat:Distribution',\n",
       "   'downloadURL': 'https://data.cms.gov/sites/default/files/2021-11/cd5b68e6-8e09-4866-8381-d34bc8db4220/SSP_ACO_Participants_2018_01_01.csv',\n",
       "   'mediaType': 'application/vnd.ms-excel',\n",
       "   'title': 'Accountable Care Organization Participants : 2018-01-01',\n",
       "   'modified': '2022-01-27',\n",
       "   'temporal': '2018-01-01/2018-01-31'},\n",
       "  {'@type': 'dcat:Distribution',\n",
       "   'format': 'API',\n",
       "   'accessURL': 'https://data.cms.gov/data-api/v1/dataset/6ed410fb-5e7d-477f-90ed-a499e951c5d1/data',\n",
       "   'title': 'Accountable Care Organization Participants : 2018-01-01',\n",
       "   'modified': '2022-01-27',\n",
       "   'temporal': '2018-01-01/2018-01-31'},\n",
       "  {'@type': 'dcat:Distribution',\n",
       "   'downloadURL': 'https://data.cms.gov/sites/default/files/2021-11/41c6c604-30f3-439e-8460-3087cbab0344/SSP_ACO_Participants_2017_01_01.csv',\n",
       "   'mediaType': 'application/vnd.ms-excel',\n",
       "   'title': 'Accountable Care Organization Participants : 2017-01-01',\n",
       "   'modified': '2022-01-27',\n",
       "   'temporal': '2017-01-01/2017-01-31'},\n",
       "  {'@type': 'dcat:Distribution',\n",
       "   'format': 'API',\n",
       "   'accessURL': 'https://data.cms.gov/data-api/v1/dataset/bbde17e0-01b1-46d2-b8bf-9949da11a448/data',\n",
       "   'title': 'Accountable Care Organization Participants : 2017-01-01',\n",
       "   'modified': '2022-01-27',\n",
       "   'temporal': '2017-01-01/2017-01-31'},\n",
       "  {'@type': 'dcat:Distribution',\n",
       "   'downloadURL': 'https://data.cms.gov/sites/default/files/2021-11/2087df69-afb4-43ed-b50a-cd13c7a46d9a/SSP_ACO_Participants_2016_01_01.csv',\n",
       "   'mediaType': 'application/vnd.ms-excel',\n",
       "   'title': 'Accountable Care Organization Participants : 2016-12-31',\n",
       "   'modified': '2022-01-27',\n",
       "   'temporal': '2016-12-01/2016-12-31'},\n",
       "  {'@type': 'dcat:Distribution',\n",
       "   'format': 'API',\n",
       "   'accessURL': 'https://data.cms.gov/data-api/v1/dataset/d2b525f5-77b6-416e-858c-36c9c381eb33/data',\n",
       "   'title': 'Accountable Care Organization Participants : 2016-12-31',\n",
       "   'modified': '2022-01-27',\n",
       "   'temporal': '2016-12-01/2016-12-31'},\n",
       "  {'@type': 'dcat:Distribution',\n",
       "   'downloadURL': 'https://data.cms.gov/sites/default/files/2021-11/9f516f5c-6c08-4bab-947f-8d3f2c950db4/SSP_ACO_Participants_2015_01_01.csv',\n",
       "   'mediaType': 'application/vnd.ms-excel',\n",
       "   'title': 'Accountable Care Organization Participants : 2015-12-31',\n",
       "   'modified': '2022-01-27',\n",
       "   'temporal': '2015-12-01/2015-12-31'},\n",
       "  {'@type': 'dcat:Distribution',\n",
       "   'format': 'API',\n",
       "   'accessURL': 'https://data.cms.gov/data-api/v1/dataset/4a743510-fbc3-4363-aab5-9d6c0fe3dea7/data',\n",
       "   'title': 'Accountable Care Organization Participants : 2015-12-31',\n",
       "   'modified': '2022-01-27',\n",
       "   'temporal': '2015-12-01/2015-12-31'},\n",
       "  {'@type': 'dcat:Distribution',\n",
       "   'downloadURL': 'https://data.cms.gov/sites/default/files/2021-11/d6084efd-ae4b-4633-8983-25485978717c/SSP_ACO_Participants_2014_01_01.csv',\n",
       "   'mediaType': 'application/vnd.ms-excel',\n",
       "   'title': 'Accountable Care Organization Participants : 2014-12-31',\n",
       "   'modified': '2022-01-27',\n",
       "   'temporal': '2014-12-01/2014-12-31'},\n",
       "  {'@type': 'dcat:Distribution',\n",
       "   'format': 'API',\n",
       "   'accessURL': 'https://data.cms.gov/data-api/v1/dataset/5ebc6246-1861-4d9f-92b4-33c69b315d64/data',\n",
       "   'title': 'Accountable Care Organization Participants : 2014-12-31',\n",
       "   'modified': '2022-01-27',\n",
       "   'temporal': '2014-12-01/2014-12-31'}],\n",
       " 'identifier': 'https://data.cms.gov/data-api/v1/dataset/9767cb68-8ea9-4f0b-8179-9431abc89f11/data-viewer',\n",
       " 'keyword': ['Medicare',\n",
       "  'Value-Based Care',\n",
       "  'Coordinated Care',\n",
       "  'Payment Models',\n",
       "  'Accountable Care Organizations'],\n",
       " 'landingPage': 'https://data.cms.gov/medicare-shared-savings-program/accountable-care-organization-participants',\n",
       " 'language': ['en-US'],\n",
       " 'license': 'https://www.usa.gov/government-works',\n",
       " 'modified': '2023-03-06',\n",
       " 'programCode': ['009:000'],\n",
       " 'publisher': {'@type': 'org:Organization',\n",
       "  'name': 'Centers for Medicare & Medicaid Services'},\n",
       " 'references': ['https://data.cms.gov/resources/acos-aco-participants-and-snf-affiliates-methodology'],\n",
       " 'temporal': '2014-12-01/2023-01-31',\n",
       " 'theme': ['Medicare'],\n",
       " 'title': 'Accountable Care Organization Participants'}"
      ]
     },
     "execution_count": 14,
     "metadata": {},
     "output_type": "execute_result"
    }
   ],
   "source": [
    "catalog['dataset'][0]"
   ]
  },
  {
   "cell_type": "code",
   "execution_count": 38,
   "id": "35b439ed-4910-4c50-b400-8ea100f9f00a",
   "metadata": {},
   "outputs": [
    {
     "name": "stdout",
     "output_type": "stream",
     "text": [
      "CMS Program Statistics 18\n",
      "Geographic Variation 3\n",
      "Medicare Physician 3\n",
      "Medicare Inpatient 2\n",
      "Medicare Outpatient 2\n",
      "Medicare Durable 3\n",
      "Medicare Part D Prescribers 3\n",
      "Cost Report 2\n",
      "Market 2\n",
      "Accountable Care Organization 4\n",
      "-other- 68\n"
     ]
    }
   ],
   "source": [
    "datasets = {\n",
    "    'CMS Program Statistics': [],\n",
    "    'Geographic Variation': [],\n",
    "    'Medicare Physician': [],\n",
    "    'Medicare Inpatient': [],\n",
    "    'Medicare Outpatient': [],\n",
    "    'Medicare Durable': [],\n",
    "    'Medicare Part D Prescribers': [],\n",
    "    'Cost Report': [],\n",
    "    'Market': [],\n",
    "    'Accountable Care Organization': [],\n",
    "    '-other-': [],\n",
    "}\n",
    "for entry in catalog['dataset']:\n",
    "    ds_title = entry['title']\n",
    "    found = False\n",
    "    for keyword, ds_list in datasets.items():\n",
    "        if keyword in ds_title:\n",
    "            ds_list.append(ds_title)\n",
    "            found = True\n",
    "            break\n",
    "    if not found:\n",
    "        datasets['-other-'].append(ds_title)\n",
    "\n",
    "for keyword, ds_list in datasets.items():\n",
    "    print(keyword, len(ds_list))"
   ]
  },
  {
   "cell_type": "code",
   "execution_count": 35,
   "id": "959a23ba-0604-4b59-8ea4-aebd4e5e20e8",
   "metadata": {},
   "outputs": [
    {
     "data": {
      "text/plain": [
       "['CMS Program Statistics - Medicare Advantage-Inpatient Hospital',\n",
       " 'CMS Program Statistics - Medicare Part A & Part B - All Types of Service',\n",
       " 'CMS Program Statistics - Medicare Inpatient Hospital',\n",
       " 'CMS Program Statistics - Medicare Skilled Nursing Facility',\n",
       " 'CMS Program Statistics - Medicare Hospice',\n",
       " 'CMS Program Statistics - Medicare Home Health Agency',\n",
       " 'CMS Program Statistics - Medicare Outpatient Facility',\n",
       " 'CMS Program Statistics - Medicare Physician, Non-Physician Practitioner & Supplier',\n",
       " 'CMS Program Statistics - Medicare Part D',\n",
       " 'CMS Program Statistics - Medicare Premiums',\n",
       " 'CMS Program Statistics - Medicare Providers',\n",
       " 'CMS Program Statistics - Medicare Total Enrollment',\n",
       " 'CMS Program Statistics - Original Medicare Enrollment',\n",
       " 'CMS Program Statistics - Medicare Advantage & Other Health Plan Enrollment',\n",
       " 'CMS Program Statistics - Medicare Newly Enrolled',\n",
       " 'CMS Program Statistics - Medicare Deaths',\n",
       " 'CMS Program Statistics - Medicare Part D Enrollment',\n",
       " 'CMS Program Statistics - Medicare-Medicaid Dual Enrollment']"
      ]
     },
     "execution_count": 35,
     "metadata": {},
     "output_type": "execute_result"
    }
   ],
   "source": [
    "datasets['CMS Program Statistics']"
   ]
  },
  {
   "cell_type": "code",
   "execution_count": null,
   "id": "5b8febe1-9624-4fbd-8538-eb75b8f508f1",
   "metadata": {},
   "outputs": [],
   "source": []
  }
 ],
 "metadata": {
  "kernelspec": {
   "display_name": "Python 3 (ipykernel)",
   "language": "python",
   "name": "python3"
  },
  "language_info": {
   "codemirror_mode": {
    "name": "ipython",
    "version": 3
   },
   "file_extension": ".py",
   "mimetype": "text/x-python",
   "name": "python",
   "nbconvert_exporter": "python",
   "pygments_lexer": "ipython3",
   "version": "3.10.0"
  }
 },
 "nbformat": 4,
 "nbformat_minor": 5
}
