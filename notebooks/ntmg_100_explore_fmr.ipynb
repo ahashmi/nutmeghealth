{
 "cells": [
  {
   "cell_type": "code",
   "execution_count": 1,
   "id": "e24f6106-214c-46cf-a6dd-052ad034c999",
   "metadata": {},
   "outputs": [],
   "source": [
    "from pathlib import Path\n",
    "import pandas as pd\n",
    "import sys\n",
    "sys.path.append(str(Path.cwd().parent))"
   ]
  },
  {
   "cell_type": "code",
   "execution_count": 2,
   "id": "89652656-d42f-4d92-8f22-57b72814aa81",
   "metadata": {},
   "outputs": [],
   "source": [
    "from scripts.config import paths, states_abbrs"
   ]
  },
  {
   "cell_type": "code",
   "execution_count": 3,
   "id": "971098a7-6b57-4128-9512-c4f2c882e5c1",
   "metadata": {},
   "outputs": [],
   "source": [
    "DATA_YEAR = \"2020\"\n",
    "FMR_EXT = \"xlsx\""
   ]
  },
  {
   "cell_type": "code",
   "execution_count": 4,
   "id": "d4345085-7d56-4b4c-94ea-0c7b20e042dd",
   "metadata": {},
   "outputs": [],
   "source": [
    "fmr_dir = paths[\"data\"] / 'fmr'"
   ]
  },
  {
   "cell_type": "code",
   "execution_count": 5,
   "id": "fcd09b8a-6681-47e3-9177-70dcaebd166f",
   "metadata": {},
   "outputs": [
    {
     "name": "stdout",
     "output_type": "stream",
     "text": [
      "FMR data:\n",
      "- FY 2020 FMR CHIP NET EXPENDITURES.xlsx\n",
      "- FY 2020 FMR NET EXPENDITURES.xlsx\n"
     ]
    }
   ],
   "source": [
    "print(f\"FMR data:\")\n",
    "sources = {}\n",
    "for f_obj in fmr_dir.glob(f\"*.{FMR_EXT}\"):\n",
    "    if f_obj.name.find(DATA_YEAR) != -1 and f_obj.name.find(\"~\") == -1:\n",
    "        print(f\"- {f_obj.name}\")\n",
    "        if f_obj.name.find(\"CHIP\") > -1:\n",
    "            label = f\"fmr-chip\"\n",
    "        else:\n",
    "            label = f\"fmr-medicaid\"\n",
    "        sources[label] = {\n",
    "            \"file\": f_obj,\n",
    "        }"
   ]
  },
  {
   "cell_type": "markdown",
   "id": "45dea8bd-5727-42dd-a607-6ba6fa17ef19",
   "metadata": {},
   "source": [
    "---\n",
    "\n",
    "## Notes on FMR Spreadsheets\n",
    "\n",
    "* States, Territories, and National Totals are represented\n",
    "* Medicaid file has sheets for both MAP & ADM FMR\n",
    "* CHIP file has sheets for MCHIP, MCHIP 20%, and CHIP FMR\n",
    "* Header row: `7`\n",
    "* Shared Columns: `Service Category`, `Total Computible`, `Federal Share`, `State Share`\n",
    "* Additional MAP Columns: `Federal Share Medicaid`, `Federal Share ARRA`\n",
    "    * 2017-2019 includes `Federal Share BIPP`\n",
    "    * 2020-2021 includes `Federal Share COVID`\n",
    "* `Service Category` is text, others are numeric\n",
    "\n",
    "## From Medicaid.gov\n",
    "\n",
    "* Beginning with the FY 2013, the Medicaid and Administration Expenditures are separated by state into different tab within the same file labeled “MAP” and “ADM” respectively and the Medicaid CHIP expenditures were removed from the FMR Net Expenditure file and a separate file was established denoting the total of all expenditures funded by CHIP allotments.\n",
    "* The C- in front of the service category denotes Medicaid CHIP expansion population expenditures funded by CHIP allotments.\n",
    "* The T- in front of the service category denotes the CHIP allotment funded portion of Qualifying State expenditures authorized for certain states under section 2105(g) of the Social Security Act.\n",
    "\n",
    "### References\n",
    "\n",
    "* [Medicaid.gov - Expenditure Reports From MBES/CBES](https://www.medicaid.gov/medicaid/financial-management/state-expenditure-reporting-for-medicaid-chip/expenditure-reports-mbescbes/index.html)\n",
    "* [American Recovery and Reinvestment Act (ARRA): Medicaid and Health Care Provisions](https://www.kff.org/medicaid/fact-sheet/american-recovery-and-reinvestment-act-arra-medicaid/)\n",
    "* [Balancing Incentive Program (BIP)](https://www.medicaid.gov/medicaid/long-term-services-supports/balancing-incentive-program/balancing-incentive-program/index.html)"
   ]
  },
  {
   "cell_type": "code",
   "execution_count": 6,
   "id": "e843e234-cea9-4709-a715-6483c31ca35a",
   "metadata": {},
   "outputs": [],
   "source": [
    "HEADER_ROW = 7\n",
    "SKIP = HEADER_ROW - 1"
   ]
  },
  {
   "cell_type": "code",
   "execution_count": 7,
   "id": "bd8d8809-2c6e-4810-8955-efcdd956e2a6",
   "metadata": {},
   "outputs": [],
   "source": [
    "mdcd_xlfile = pd.ExcelFile(sources[\"fmr-medicaid\"][\"file\"])"
   ]
  },
  {
   "cell_type": "code",
   "execution_count": 8,
   "id": "36bf5e3a-7488-4e8b-8af6-7d930179d4fc",
   "metadata": {},
   "outputs": [
    {
     "name": "stdout",
     "output_type": "stream",
     "text": [
      "MEDICAID loaded sheets: 114\n"
     ]
    }
   ],
   "source": [
    "mdcd_dfs = pd.read_excel(mdcd_xlfile, None, skiprows=SKIP)\n",
    "print(f\"MEDICAID loaded sheets: {len(mdcd_dfs)}\")"
   ]
  },
  {
   "cell_type": "code",
   "execution_count": 9,
   "id": "872df627-9a28-4aeb-aee1-152ec71a7111",
   "metadata": {},
   "outputs": [],
   "source": [
    "chip_xlfile = pd.ExcelFile(sources[\"fmr-chip\"][\"file\"])"
   ]
  },
  {
   "cell_type": "code",
   "execution_count": 10,
   "id": "ccb93e03-ff42-403a-81b7-1829e5f70371",
   "metadata": {},
   "outputs": [
    {
     "name": "stdout",
     "output_type": "stream",
     "text": [
      "CHIP loaded sheets: 171\n"
     ]
    }
   ],
   "source": [
    "chip_dfs = pd.read_excel(chip_xlfile, None, skiprows=SKIP)\n",
    "print(f\"CHIP loaded sheets: {len(chip_dfs)}\")"
   ]
  },
  {
   "cell_type": "code",
   "execution_count": 11,
   "id": "9d58c5f9-aa3b-4ea6-bf0a-88ff36ed19be",
   "metadata": {},
   "outputs": [],
   "source": [
    "SEPARATOR = \" - \""
   ]
  },
  {
   "cell_type": "code",
   "execution_count": 12,
   "id": "a67341e7-37c6-4713-81c8-f81360f916f5",
   "metadata": {},
   "outputs": [],
   "source": [
    "def summarize_load(src_lbl:str, src_dfs:dict) -> tuple:\n",
    "    fmr_types = set()\n",
    "    state_terrs = set()\n",
    "    for df_key in src_dfs:\n",
    "        key_elems = df_key.split(SEPARATOR)\n",
    "        fmr_types.add(key_elems[0].strip())\n",
    "        state_terrs.add(key_elems[1].strip())\n",
    "    print(f\"loaded {src_lbl} types: {fmr_types}\")\n",
    "    print(f\"loaded states/territories: {len(state_terrs)}\")\n",
    "    return fmr_types, state_terrs"
   ]
  },
  {
   "cell_type": "code",
   "execution_count": 13,
   "id": "4f7c6485-1499-433f-bd57-b2946d2389c1",
   "metadata": {},
   "outputs": [
    {
     "name": "stdout",
     "output_type": "stream",
     "text": [
      "loaded Medicaid types: {'MAP', 'ADM'}\n",
      "loaded states/territories: 57\n",
      "loaded CHIP types: {'CHIP', 'MCHIP 20%', 'MCHIP'}\n",
      "loaded states/territories: 57\n"
     ]
    }
   ],
   "source": [
    "mdcd_types, states = summarize_load(\"Medicaid\", mdcd_dfs)\n",
    "chip_types, states = summarize_load(\"CHIP\", chip_dfs)"
   ]
  },
  {
   "cell_type": "code",
   "execution_count": 14,
   "id": "aec34a2a-2c1e-4323-be9e-804a31520bd2",
   "metadata": {},
   "outputs": [],
   "source": [
    "fmr_sources = {\n",
    "    \"Medicaid\": {\n",
    "        \"dataframes\": mdcd_dfs,\n",
    "        \"datatypes\": mdcd_types,\n",
    "    },\n",
    "    \"CHIP\": {\n",
    "        \"dataframes\": chip_dfs,\n",
    "        \"datatypes\": chip_types,\n",
    "    },\n",
    "}"
   ]
  },
  {
   "cell_type": "code",
   "execution_count": 15,
   "id": "b3a7f7d8-4170-4391-8947-d960bac5b31c",
   "metadata": {},
   "outputs": [],
   "source": [
    "TEST_STATES = [\"Massachusetts\"]"
   ]
  },
  {
   "cell_type": "code",
   "execution_count": 16,
   "id": "4e232c0b-3020-4156-9d5d-6538d414a368",
   "metadata": {},
   "outputs": [],
   "source": [
    "SHARED_COLS = ['Service Category', 'Total Computable', 'Federal Share', 'State Share']"
   ]
  },
  {
   "cell_type": "code",
   "execution_count": 17,
   "id": "8f148669-4e9a-45ea-8183-4a8de7caf614",
   "metadata": {},
   "outputs": [],
   "source": [
    "def collect_state_fmr(state_name:str, data_types:set, src_data:dict) -> dict:\n",
    "    crnt_st_data = {}\n",
    "    for data_type in data_types:\n",
    "        df_key = f\"{data_type}{SEPARATOR}{state_name}\"\n",
    "        df = src_data[df_key]\n",
    "        fixed_cols = [col.replace(\"\\n \", \"\") for col in df.columns]\n",
    "        df.columns = fixed_cols\n",
    "        df = df.dropna(axis=0, how=\"all\").reset_index(drop=True)\n",
    "        print(f'<> loaded {data_type} dataframe -> rows: {df.shape[0]}, cols: {df.shape[1]}')\n",
    "        print(f' - columns: {list(df.columns)}')\n",
    "        drop_cols = [col for col in fixed_cols if col not in SHARED_COLS]\n",
    "        if len(drop_cols):\n",
    "            print(f' - dropping: {drop_cols}')\n",
    "            df = df.drop(columns=drop_cols)\n",
    "        created_indx = df.shape[0] - 1\n",
    "        created_row = df.loc[created_indx, :]\n",
    "        df.drop(created_indx, inplace=True)\n",
    "        meta = created_row.to_list()[0]\n",
    "        print(f' - {meta}')\n",
    "        total_category = [svc for svc in df['Service Category'].to_list() if svc.find('Total') > -1][0]\n",
    "        totals = df[df['Service Category'] == total_category].to_dict(orient='records')[0]\n",
    "        totals.pop('Service Category')\n",
    "        crnt_st_data[data_type] = {\n",
    "            'dataframe': df,\n",
    "            'meta': meta,\n",
    "            'total_category': total_category,\n",
    "            'totals': totals,\n",
    "        }\n",
    "    return crnt_st_data"
   ]
  },
  {
   "cell_type": "code",
   "execution_count": 18,
   "id": "243b599f-d3fd-4f0b-a18d-9ac8c0556110",
   "metadata": {},
   "outputs": [],
   "source": [
    "def load_state_fmr(state_names:list) -> dict:\n",
    "    states_fmr = {}\n",
    "    for state in state_names:\n",
    "        print(f'current state: {state}')\n",
    "        fmr_data = {}\n",
    "        for fmr, fmr_detl in fmr_sources.items():\n",
    "            fmr_data.update(collect_state_fmr(\n",
    "                state_name=state, \n",
    "                data_types=fmr_detl['datatypes'], \n",
    "                src_data=fmr_detl['dataframes'],\n",
    "            ))\n",
    "        states_fmr[states_abbrs[state]] = fmr_data\n",
    "    return states_fmr"
   ]
  },
  {
   "cell_type": "code",
   "execution_count": 19,
   "id": "a32d13d3-2db3-434f-a016-9dd679173c75",
   "metadata": {},
   "outputs": [
    {
     "name": "stdout",
     "output_type": "stream",
     "text": [
      "current state: Massachusetts\n",
      "<> loaded MAP dataframe -> rows: 237, cols: 7\n",
      " - columns: ['Service Category', 'Total Computable', 'Federal Share', 'Federal Share Medicaid', 'Federal Share ARRA', 'Federal Share COVID', 'State Share']\n",
      " - dropping: ['Federal Share Medicaid', 'Federal Share ARRA', 'Federal Share COVID']\n",
      " - Created On: Wednesday, July 21, 2021 4:24 PM\n",
      "<> loaded ADM dataframe -> rows: 58, cols: 4\n",
      " - columns: ['Service Category', 'Total Computable', 'Federal Share', 'State Share']\n",
      " - Created On: Wednesday, July 21, 2021 4:24 PM\n",
      "<> loaded CHIP dataframe -> rows: 42, cols: 4\n",
      " - columns: ['Service Category', 'Total Computable', 'Federal Share', 'State Share']\n",
      " - Created On: Tuesday, September 21, 2021 1:20 PM\n",
      "<> loaded MCHIP 20% dataframe -> rows: 94, cols: 4\n",
      " - columns: ['Service Category', 'Total Computable', 'Federal Share', 'State Share']\n",
      " - Created On: Tuesday, September 21, 2021 1:20 PM\n",
      "<> loaded MCHIP dataframe -> rows: 42, cols: 4\n",
      " - columns: ['Service Category', 'Total Computable', 'Federal Share', 'State Share']\n",
      " - Created On: Tuesday, September 21, 2021 1:20 PM\n"
     ]
    }
   ],
   "source": [
    "_ = load_state_fmr(state_names=TEST_STATES)"
   ]
  },
  {
   "cell_type": "code",
   "execution_count": null,
   "id": "fff836b4-f513-4956-81cc-2fb621b0cd3a",
   "metadata": {},
   "outputs": [],
   "source": []
  }
 ],
 "metadata": {
  "kernelspec": {
   "display_name": "Python 3 (ipykernel)",
   "language": "python",
   "name": "python3"
  },
  "language_info": {
   "codemirror_mode": {
    "name": "ipython",
    "version": 3
   },
   "file_extension": ".py",
   "mimetype": "text/x-python",
   "name": "python",
   "nbconvert_exporter": "python",
   "pygments_lexer": "ipython3",
   "version": "3.10.0"
  }
 },
 "nbformat": 4,
 "nbformat_minor": 5
}
