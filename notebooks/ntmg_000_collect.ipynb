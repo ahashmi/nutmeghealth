{
 "cells": [
  {
   "cell_type": "code",
   "execution_count": 5,
   "id": "c9504550-9b51-4dcc-8ae2-c09b2798ac56",
   "metadata": {},
   "outputs": [],
   "source": [
    "import requests\n",
    "from bs4 import BeautifulSoup"
   ]
  },
  {
   "cell_type": "code",
   "execution_count": 2,
   "id": "e641e25a-6db4-420d-9ed5-aadb13280b3b",
   "metadata": {},
   "outputs": [],
   "source": [
    "MBES_URL = 'https://www.medicaid.gov/medicaid/financial-management/state-expenditure-reporting-for-medicaid-chip/expenditure-reports-mbescbes/index.html'"
   ]
  },
  {
   "cell_type": "code",
   "execution_count": 3,
   "id": "d13f1b94-1372-4abe-a7d4-dd3382245efd",
   "metadata": {},
   "outputs": [],
   "source": [
    "resp = requests.get(MBES_URL)"
   ]
  },
  {
   "cell_type": "code",
   "execution_count": 9,
   "id": "eb0695d8-24f5-4eaa-85b2-d119cbc836a3",
   "metadata": {},
   "outputs": [],
   "source": [
    "doc = BeautifulSoup(resp.text, 'html.parser')"
   ]
  },
  {
   "cell_type": "code",
   "execution_count": 22,
   "id": "5cc87f88-3967-4df4-b8a5-9fb02dc31951",
   "metadata": {},
   "outputs": [],
   "source": [
    "fmr_text = 'Financial Management Report'"
   ]
  },
  {
   "cell_type": "code",
   "execution_count": 58,
   "id": "0b0cfd5c-d849-43d6-965d-a82d8afa8b1b",
   "metadata": {},
   "outputs": [
    {
     "name": "stdout",
     "output_type": "stream",
     "text": [
      "FMR downloads found: 11\n"
     ]
    }
   ],
   "source": [
    "fmr_links = {}\n",
    "for link in doc.find_all('a'):\n",
    "    if link.text.find(fmr_text) != -1:\n",
    "        short_text = link.text.replace(fmr_text, '').replace('for', '')\n",
    "        fy_label = str(short_text.strip())\n",
    "        str_encode = fy_label.encode(\"ascii\", \"ignore\")\n",
    "        fy_label = str_encode.decode()\n",
    "        fy_label = fy_label.replace('FY2', 'FY 2').replace('FY1', 'FY 1')\n",
    "        fmr_links[fy_label] = link['href']\n",
    "print(f'FMR downloads found: {len(fmr_links)}')"
   ]
  },
  {
   "cell_type": "code",
   "execution_count": 57,
   "id": "8981b692-ee9c-4b66-bdf8-80516e546050",
   "metadata": {},
   "outputs": [
    {
     "data": {
      "text/plain": [
       "{'FY 2021': '/medicaid/financial-management/downloads/financial-management-report-fy2021.zip',\n",
       " 'FY 2020': '/medicaid/financial-management/downloads/financial-management-report-fy2020.zip',\n",
       " 'FY 2019': '/medicaid/financial-management/downloads/financial-management-report-fy2019.zip',\n",
       " 'FY 2018': '/medicaid/financial-management/downloads/financial-management-report-fy2018.zip',\n",
       " 'FY 2017': '/medicaid/downloads/financial-management-report-fy2017.zip',\n",
       " 'FY 2016': '/medicaid/downloads/financial-management-report-fy2016.zip',\n",
       " 'FY 2015': '/medicaid/downloads/financial-management-report-fy2015.zip',\n",
       " 'FY 2014': '/medicaid/downloads/financial-management-report-fy2014.zip',\n",
       " 'FY 2012 through FY 2013': '/medicaid/downloads/financial-management-report-fy2012-13.zip',\n",
       " 'FY 2002 through FY 2011': '/medicaid/downloads/fy02throughfy11netexpenditure.zip',\n",
       " 'FY 1997 through FY 2001': '/medicaid/downloads/financial-management-report-fy1997-2001.zip'}"
      ]
     },
     "execution_count": 57,
     "metadata": {},
     "output_type": "execute_result"
    }
   ],
   "source": [
    "for fyr, zip_link in fmr_links.items():"
   ]
  },
  {
   "cell_type": "code",
   "execution_count": null,
   "id": "2653bca7-6f96-47a7-8b87-d2f55e288846",
   "metadata": {},
   "outputs": [],
   "source": []
  }
 ],
 "metadata": {
  "kernelspec": {
   "display_name": "Python 3 (ipykernel)",
   "language": "python",
   "name": "python3"
  },
  "language_info": {
   "codemirror_mode": {
    "name": "ipython",
    "version": 3
   },
   "file_extension": ".py",
   "mimetype": "text/x-python",
   "name": "python",
   "nbconvert_exporter": "python",
   "pygments_lexer": "ipython3",
   "version": "3.9.6"
  }
 },
 "nbformat": 4,
 "nbformat_minor": 5
}
