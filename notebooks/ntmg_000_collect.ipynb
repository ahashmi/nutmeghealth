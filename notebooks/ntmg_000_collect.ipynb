{
 "cells": [
  {
   "cell_type": "code",
   "execution_count": 1,
   "id": "c9504550-9b51-4dcc-8ae2-c09b2798ac56",
   "metadata": {},
   "outputs": [],
   "source": [
    "from pathlib import Path\n",
    "import requests\n",
    "from bs4 import BeautifulSoup\n",
    "import zipfile"
   ]
  },
  {
   "cell_type": "code",
   "execution_count": 12,
   "id": "e641e25a-6db4-420d-9ed5-aadb13280b3b",
   "metadata": {},
   "outputs": [],
   "source": [
    "MDCD_ROOT = 'https://www.medicaid.gov'\n",
    "fmr_homepage = MDCD_ROOT + '/medicaid/financial-management/state-expenditure-reporting-for-medicaid-chip/expenditure-reports-mbescbes/index.html'"
   ]
  },
  {
   "cell_type": "code",
   "execution_count": 20,
   "id": "d13f1b94-1372-4abe-a7d4-dd3382245efd",
   "metadata": {},
   "outputs": [
    {
     "name": "stdout",
     "output_type": "stream",
     "text": [
      "homepage status: 200\n"
     ]
    }
   ],
   "source": [
    "resp = requests.get(fmr_homepage)\n",
    "print(f'homepage status: {resp.status_code}')"
   ]
  },
  {
   "cell_type": "code",
   "execution_count": 14,
   "id": "eb0695d8-24f5-4eaa-85b2-d119cbc836a3",
   "metadata": {},
   "outputs": [],
   "source": [
    "doc = BeautifulSoup(resp.text, 'html.parser')"
   ]
  },
  {
   "cell_type": "code",
   "execution_count": 15,
   "id": "5cc87f88-3967-4df4-b8a5-9fb02dc31951",
   "metadata": {},
   "outputs": [],
   "source": [
    "fmr_text = 'Financial Management Report'"
   ]
  },
  {
   "cell_type": "code",
   "execution_count": 16,
   "id": "0b0cfd5c-d849-43d6-965d-a82d8afa8b1b",
   "metadata": {},
   "outputs": [
    {
     "name": "stdout",
     "output_type": "stream",
     "text": [
      "FMR downloads found: 11\n"
     ]
    }
   ],
   "source": [
    "fmr_links = {}\n",
    "for link in doc.find_all('a'):\n",
    "    if link.text.find(fmr_text) != -1:\n",
    "        short_text = link.text.replace(fmr_text, '').replace('for', '')\n",
    "        fy_label = str(short_text.strip())\n",
    "        str_encode = fy_label.encode(\"ascii\", \"ignore\")\n",
    "        fy_label = str_encode.decode()\n",
    "        fy_label = fy_label.replace('FY2', 'FY 2').replace('FY1', 'FY 1')\n",
    "        fmr_links[fy_label] = {'url': link['href']}\n",
    "print(f'FMR downloads found: {len(fmr_links)}')"
   ]
  },
  {
   "cell_type": "code",
   "execution_count": 17,
   "id": "2f50240d-de0a-4c3e-9214-6621537d0b51",
   "metadata": {},
   "outputs": [],
   "source": [
    "data_dir = Path.cwd().parent / 'DATA'\n",
    "fmr_dir = data_dir / 'fmr'\n",
    "fmr_dir.mkdir(exist_ok=True)"
   ]
  },
  {
   "cell_type": "code",
   "execution_count": 18,
   "id": "cbe6be05-c728-4511-9825-dd5256c9a324",
   "metadata": {},
   "outputs": [],
   "source": [
    "CHUNK_SZ = 256"
   ]
  },
  {
   "cell_type": "code",
   "execution_count": 19,
   "id": "8981b692-ee9c-4b66-bdf8-80516e546050",
   "metadata": {},
   "outputs": [
    {
     "name": "stdout",
     "output_type": "stream",
     "text": [
      "Downloading FY 2021...\n",
      "https://www.medicaid.gov/medicaid/financial-management/downloads/financial-management-report-fy2021.zip\n",
      "-- downloaded\n",
      "-- extracted\n",
      "Downloading FY 2020...\n",
      "https://www.medicaid.gov/medicaid/financial-management/downloads/financial-management-report-fy2020.zip\n",
      "-- downloaded\n",
      "-- extracted\n",
      "Downloading FY 2019...\n",
      "https://www.medicaid.gov/medicaid/financial-management/downloads/financial-management-report-fy2019.zip\n",
      "-- downloaded\n",
      "-- extracted\n",
      "Downloading FY 2018...\n",
      "https://www.medicaid.gov/medicaid/financial-management/downloads/financial-management-report-fy2018.zip\n",
      "-- downloaded\n",
      "-- extracted\n",
      "Downloading FY 2017...\n",
      "https://www.medicaid.gov/medicaid/downloads/financial-management-report-fy2017.zip\n",
      "-- downloaded\n",
      "-- extracted\n",
      "Downloading FY 2016...\n",
      "https://www.medicaid.gov/medicaid/downloads/financial-management-report-fy2016.zip\n",
      "-- downloaded\n",
      "-- extracted\n",
      "Downloading FY 2015...\n",
      "https://www.medicaid.gov/medicaid/downloads/financial-management-report-fy2015.zip\n",
      "-- downloaded\n",
      "-- extracted\n",
      "Downloading FY 2014...\n",
      "https://www.medicaid.gov/medicaid/downloads/financial-management-report-fy2014.zip\n",
      "-- downloaded\n",
      "-- extracted\n",
      "Downloading FY 2012 through FY 2013...\n",
      "https://www.medicaid.gov/medicaid/downloads/financial-management-report-fy2012-13.zip\n",
      "-- downloaded\n",
      "-- extracted\n",
      "Downloading FY 2002 through FY 2011...\n",
      "https://www.medicaid.gov/medicaid/downloads/fy02throughfy11netexpenditure.zip\n",
      "-- downloaded\n",
      "-- extracted\n",
      "Downloading FY 1997 through FY 2001...\n",
      "https://www.medicaid.gov/medicaid/downloads/financial-management-report-fy1997-2001.zip\n",
      "-- downloaded\n",
      "-- extracted\n"
     ]
    }
   ],
   "source": [
    "for fyr, file_refs in fmr_links.items():\n",
    "    print(f'Downloading {fyr}...')\n",
    "    file_url = MDCD_ROOT + file_refs['url']\n",
    "    print(file_url)\n",
    "    r = requests.get(file_url)\n",
    "    fy_label = fyr.replace(' ', '_')\n",
    "    filename = fmr_dir / (fy_label + '.zip')\n",
    "    ## download\n",
    "    with open(filename, 'wb') as fd:\n",
    "        for chunk in r.iter_content(chunk_size=CHUNK_SZ):\n",
    "            fd.write(chunk)\n",
    "        print('-- downloaded')\n",
    "    ## extract\n",
    "    with zipfile.ZipFile(filename, 'r') as zip_ref:\n",
    "        zip_ref.extractall(fmr_dir)\n",
    "        print('-- extracted')"
   ]
  },
  {
   "cell_type": "code",
   "execution_count": 10,
   "id": "2653bca7-6f96-47a7-8b87-d2f55e288846",
   "metadata": {},
   "outputs": [
    {
     "name": "stdout",
     "output_type": "stream",
     "text": [
      "Medicaid & CHIP fiscal years collected: 0\n"
     ]
    }
   ],
   "source": [
    "excel_files = {}\n",
    "for xlsx in list(fmr_dir.glob('FY *')):\n",
    "    fyr = xlsx.name.split()[1]\n",
    "    if fyr not in excel_files:\n",
    "        excel_files[fyr] = {}\n",
    "    if xlsx.name.find('CHIP') != -1:\n",
    "        excel_files[fyr]['CHIP'] = xlsx\n",
    "    else:\n",
    "        excel_files[fyr]['Medicaid'] = xlsx\n",
    "print(f'Medicaid & CHIP fiscal years collected: {len(excel_files)}')"
   ]
  },
  {
   "cell_type": "code",
   "execution_count": null,
   "id": "f1059ed2-16fc-464a-bca7-aefbde914248",
   "metadata": {},
   "outputs": [],
   "source": []
  }
 ],
 "metadata": {
  "kernelspec": {
   "display_name": "Python 3 (ipykernel)",
   "language": "python",
   "name": "python3"
  },
  "language_info": {
   "codemirror_mode": {
    "name": "ipython",
    "version": 3
   },
   "file_extension": ".py",
   "mimetype": "text/x-python",
   "name": "python",
   "nbconvert_exporter": "python",
   "pygments_lexer": "ipython3",
   "version": "3.10.0"
  }
 },
 "nbformat": 4,
 "nbformat_minor": 5
}
