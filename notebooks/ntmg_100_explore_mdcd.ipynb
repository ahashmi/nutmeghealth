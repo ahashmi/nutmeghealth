{
 "cells": [
  {
   "cell_type": "code",
   "execution_count": 2,
   "id": "e24f6106-214c-46cf-a6dd-052ad034c999",
   "metadata": {},
   "outputs": [],
   "source": [
    "from pathlib import Path\n",
    "import sys\n",
    "sys.path.append(str(Path.cwd().parent))"
   ]
  },
  {
   "cell_type": "code",
   "execution_count": 4,
   "id": "89652656-d42f-4d92-8f22-57b72814aa81",
   "metadata": {},
   "outputs": [],
   "source": [
    "from scripts.config import data_dir"
   ]
  },
  {
   "cell_type": "code",
   "execution_count": 13,
   "id": "971098a7-6b57-4128-9512-c4f2c882e5c1",
   "metadata": {},
   "outputs": [],
   "source": [
    "DATA_YEAR = '2020'"
   ]
  },
  {
   "cell_type": "code",
   "execution_count": 14,
   "id": "d4345085-7d56-4b4c-94ea-0c7b20e042dd",
   "metadata": {},
   "outputs": [],
   "source": [
    "source_data = {\n",
    "    'fmr': {\n",
    "        'ext': 'xlsx',\n",
    "        'tag': DATA_YEAR,\n",
    "    },\n",
    "    'enrl': {\n",
    "        'ext': 'csv',\n",
    "        'tag': '2022',\n",
    "    },\n",
    "}"
   ]
  },
  {
   "cell_type": "code",
   "execution_count": 15,
   "id": "fcd09b8a-6681-47e3-9177-70dcaebd166f",
   "metadata": {},
   "outputs": [
    {
     "name": "stdout",
     "output_type": "stream",
     "text": [
      "\n",
      "FMR data:\n",
      "- FY 2020 FMR CHIP NET EXPENDITURES.xlsx\n",
      "- FY 2020 FMR NET EXPENDITURES.xlsx\n",
      "\n",
      "ENRL data:\n",
      "- EnrollmentDataAugust2022.csv\n"
     ]
    }
   ],
   "source": [
    "for src_type, src_detl in source_data.items():\n",
    "    src_data_dir = data_dir / src_type\n",
    "    print(f'\\n{src_type.upper()} data:')\n",
    "    ext, tag = src_detl.values()\n",
    "    for f_obj in src_data_dir.glob(f'*.{ext}'):\n",
    "        if f_obj.name.find(tag) != -1:\n",
    "            print(f'- {f_obj.name}')"
   ]
  },
  {
   "cell_type": "code",
   "execution_count": null,
   "id": "900d233f-10bf-4c6e-bf14-c96c96ff2c80",
   "metadata": {},
   "outputs": [],
   "source": []
  }
 ],
 "metadata": {
  "kernelspec": {
   "display_name": "Python 3 (ipykernel)",
   "language": "python",
   "name": "python3"
  },
  "language_info": {
   "codemirror_mode": {
    "name": "ipython",
    "version": 3
   },
   "file_extension": ".py",
   "mimetype": "text/x-python",
   "name": "python",
   "nbconvert_exporter": "python",
   "pygments_lexer": "ipython3",
   "version": "3.10.0"
  }
 },
 "nbformat": 4,
 "nbformat_minor": 5
}
