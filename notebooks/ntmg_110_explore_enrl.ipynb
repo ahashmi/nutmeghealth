{
 "cells": [
  {
   "cell_type": "code",
   "execution_count": 1,
   "id": "9d81a982-77ca-4fb7-abbb-6e03a53d0ca9",
   "metadata": {},
   "outputs": [],
   "source": [
    "from pathlib import Path\n",
    "import pandas as pd\n",
    "import sys\n",
    "sys.path.append(str(Path.cwd().parent))"
   ]
  },
  {
   "cell_type": "code",
   "execution_count": 2,
   "id": "fbd21fa3-2473-4293-8c1e-57bb44dd305e",
   "metadata": {},
   "outputs": [],
   "source": [
    "from scripts.config import paths"
   ]
  },
  {
   "cell_type": "code",
   "execution_count": 3,
   "id": "8b654795-017d-4c30-a7b5-be71273e254f",
   "metadata": {},
   "outputs": [],
   "source": [
    "DATA_YEAR = \"2020\"\n",
    "TEST_STATE = \"Massachusetts\""
   ]
  },
  {
   "cell_type": "code",
   "execution_count": 4,
   "id": "5ab793e8-e3ca-4646-9db7-d7c38f1f2af8",
   "metadata": {},
   "outputs": [],
   "source": [
    "enrl_dir = paths[\"data\"] / \"enrl\""
   ]
  },
  {
   "cell_type": "code",
   "execution_count": 5,
   "id": "d52a15f7-a771-4d88-bb5b-6eacf4acda78",
   "metadata": {},
   "outputs": [],
   "source": [
    "enrl_tag = \"August2022\"\n",
    "enrl_filenm = f\"EnrollmentData{enrl_tag}.csv\""
   ]
  },
  {
   "cell_type": "code",
   "execution_count": 6,
   "id": "29c59c7f-5c4b-4213-b1a3-9782dffd2b1a",
   "metadata": {},
   "outputs": [
    {
     "name": "stdout",
     "output_type": "stream",
     "text": [
      "enrollment data (August2022) loaded -> rows: 6281, cols: 26\n",
      "columns:\n",
      " state_abbreviation\n",
      " state_name\n",
      " report_date\n",
      " state_expanded_medicaid\n",
      " preliminary_updated\n",
      " final_report\n",
      " new_applications_submitted_to_medicaid_and_chip_agencies\n",
      " new_applications_submitted_to_medicaid_and_chip_agencies__f_85d7\n",
      " applications_for_financial_assistance_submitted_to_the_stat_104d\n",
      " applications_for_financial_assistance_submitted_to_the_stat_c640\n",
      " total_applications_for_financial_assistance_submitted_at_st_d6fa\n",
      " total_applications_for_financial_assistance_submitted_at_st_9919\n",
      " individuals_determined_eligible_for_medicaid_at_application\n",
      " individuals_determined_eligible_for_medicaid_at_application_4f96\n",
      " individuals_determined_eligible_for_chip_at_application\n",
      " individuals_determined_eligible_for_chip_at_application__fo_e28a\n",
      " total_medicaid_and_chip_determinations\n",
      " total_medicaid_and_chip_determinations__footnotes\n",
      " medicaid_and_chip_child_enrollment\n",
      " medicaid_and_chip_child_enrollment__footnotes\n",
      " total_medicaid_and_chip_enrollment\n",
      " total_medicaid_and_chip_enrollment__footnotes\n",
      " total_medicaid_enrollment\n",
      " total_medicaid_enrollment__footnotes\n",
      " total_chip_enrollment\n",
      " total_chip_enrollment__footnotes\n"
     ]
    }
   ],
   "source": [
    "df = pd.read_csv(enrl_dir / enrl_filenm)\n",
    "print(f\"enrollment data ({enrl_tag}) loaded -> rows: {df.shape[0]}, cols: {df.shape[1]}\")\n",
    "print(f\"columns:\")\n",
    "for col in df.columns:\n",
    "    print(f\" {col}\")"
   ]
  },
  {
   "cell_type": "code",
   "execution_count": 7,
   "id": "73297587-abb6-4c0b-a1c7-f0ae23a2b258",
   "metadata": {},
   "outputs": [],
   "source": [
    "STATE_COLS = [\n",
    "    \"state_abbreviation\", \n",
    "    \"state_name\", \n",
    "    \"state_expanded_medicaid\",\n",
    "]"
   ]
  },
  {
   "cell_type": "code",
   "execution_count": 8,
   "id": "aff7bae8-8459-4d14-8b08-bde01a831081",
   "metadata": {},
   "outputs": [],
   "source": [
    "META_COLS = [\n",
    "    \"report_date\", \n",
    "    \"preliminary_updated\", \n",
    "    \"final_report\",\n",
    "]"
   ]
  },
  {
   "cell_type": "code",
   "execution_count": 9,
   "id": "5622095f-a969-459e-8e6e-d950dd1d0099",
   "metadata": {},
   "outputs": [],
   "source": [
    "ENRL_COLS = [\n",
    "    \"medicaid_and_chip_child_enrollment\",\n",
    "    \"total_medicaid_and_chip_enrollment\",\n",
    "    \"total_medicaid_enrollment\",\n",
    "    \"total_chip_enrollment\",\n",
    "]"
   ]
  },
  {
   "cell_type": "code",
   "execution_count": 10,
   "id": "c4118860-b5cb-4c0c-8f67-c51f055c5819",
   "metadata": {},
   "outputs": [],
   "source": [
    "DATE_COLS = [\n",
    "    \"report_month\", \n",
    "    \"report_day\", \n",
    "    \"report_year\",\n",
    "]"
   ]
  },
  {
   "cell_type": "code",
   "execution_count": 11,
   "id": "4b0dfa48-1e4c-41c1-a54e-412543aa3e4c",
   "metadata": {},
   "outputs": [],
   "source": [
    "SKIP_COLS = [\n",
    "    \"report_day\",\n",
    "    \"state_name\",\n",
    "    \"state_expanded_medicaid\",\n",
    "]"
   ]
  },
  {
   "cell_type": "code",
   "execution_count": 12,
   "id": "3fd9df6a-5d93-4d2b-aa7b-c54f637eb8fd",
   "metadata": {},
   "outputs": [],
   "source": [
    "keep_cols = STATE_COLS + META_COLS + ENRL_COLS"
   ]
  },
  {
   "cell_type": "code",
   "execution_count": 13,
   "id": "2a6d2a18-e3a8-4c3a-b034-fca41856fa71",
   "metadata": {},
   "outputs": [],
   "source": [
    "drop_cols = [col for col in df.columns if col not in keep_cols]"
   ]
  },
  {
   "cell_type": "code",
   "execution_count": 14,
   "id": "90b59b9c-4d5e-4ee3-849f-a3b11db74459",
   "metadata": {},
   "outputs": [],
   "source": [
    "df = df.drop(columns=drop_cols)"
   ]
  },
  {
   "cell_type": "code",
   "execution_count": 15,
   "id": "a05e6d4b-339e-498f-a600-8ec80a3eaa71",
   "metadata": {},
   "outputs": [
    {
     "data": {
      "text/html": [
       "<div>\n",
       "<style scoped>\n",
       "    .dataframe tbody tr th:only-of-type {\n",
       "        vertical-align: middle;\n",
       "    }\n",
       "\n",
       "    .dataframe tbody tr th {\n",
       "        vertical-align: top;\n",
       "    }\n",
       "\n",
       "    .dataframe thead th {\n",
       "        text-align: right;\n",
       "    }\n",
       "</style>\n",
       "<table border=\"1\" class=\"dataframe\">\n",
       "  <thead>\n",
       "    <tr style=\"text-align: right;\">\n",
       "      <th>final_report</th>\n",
       "      <th>N</th>\n",
       "      <th>Y</th>\n",
       "    </tr>\n",
       "    <tr>\n",
       "      <th>preliminary_updated</th>\n",
       "      <th></th>\n",
       "      <th></th>\n",
       "    </tr>\n",
       "  </thead>\n",
       "  <tbody>\n",
       "    <tr>\n",
       "      <th>P</th>\n",
       "      <td>3162</td>\n",
       "      <td>51</td>\n",
       "    </tr>\n",
       "    <tr>\n",
       "      <th>U</th>\n",
       "      <td>0</td>\n",
       "      <td>3068</td>\n",
       "    </tr>\n",
       "  </tbody>\n",
       "</table>\n",
       "</div>"
      ],
      "text/plain": [
       "final_report            N     Y\n",
       "preliminary_updated            \n",
       "P                    3162    51\n",
       "U                       0  3068"
      ]
     },
     "execution_count": 15,
     "metadata": {},
     "output_type": "execute_result"
    }
   ],
   "source": [
    "pd.crosstab(df[\"preliminary_updated\"], df[\"final_report\"])"
   ]
  },
  {
   "cell_type": "code",
   "execution_count": 16,
   "id": "cc470f05-851a-485f-aa29-8b02d85bfa37",
   "metadata": {},
   "outputs": [],
   "source": [
    "df[DATE_COLS] = df[\"report_date\"].str.split('/', expand=True)"
   ]
  },
  {
   "cell_type": "code",
   "execution_count": 17,
   "id": "7814e1b6-9726-4ac9-9b18-77fd5bd9f537",
   "metadata": {},
   "outputs": [
    {
     "data": {
      "text/plain": [
       "2013      51\n",
       "2017     639\n",
       "2018    1156\n",
       "2019    1222\n",
       "2020    1224\n",
       "2021    1224\n",
       "2022     765\n",
       "Name: report_year, dtype: int64"
      ]
     },
     "execution_count": 17,
     "metadata": {},
     "output_type": "execute_result"
    }
   ],
   "source": [
    "df['report_year'].value_counts(sort=False)"
   ]
  },
  {
   "cell_type": "code",
   "execution_count": 18,
   "id": "5dc787c1-ae4b-4e3f-bbc2-f046265ed21a",
   "metadata": {},
   "outputs": [],
   "source": [
    "fnl_df = df[df[\"final_report\"] == \"Y\"]\n",
    "yr_fnl_df = fnl_df[fnl_df[\"report_year\"] == DATA_YEAR]"
   ]
  },
  {
   "cell_type": "code",
   "execution_count": 19,
   "id": "b6d010b5-f854-4ce8-ac04-3cd48283ee32",
   "metadata": {},
   "outputs": [],
   "source": [
    "st_yr_fnl_df = yr_fnl_df[yr_fnl_df[\"state_name\"] == TEST_STATE]"
   ]
  },
  {
   "cell_type": "code",
   "execution_count": 20,
   "id": "caa69a0d-1ebc-443b-b644-1129d1ce583d",
   "metadata": {},
   "outputs": [],
   "source": [
    "st_yr_fnl_df = st_yr_fnl_df \\\n",
    "    .drop(columns=SKIP_COLS+META_COLS) \\\n",
    "    .reset_index(drop=True) \\\n",
    "    .copy()"
   ]
  },
  {
   "cell_type": "code",
   "execution_count": 21,
   "id": "f020f2ea-36aa-4e60-8fcb-e7e47457cda4",
   "metadata": {},
   "outputs": [
    {
     "data": {
      "text/html": [
       "<div>\n",
       "<style scoped>\n",
       "    .dataframe tbody tr th:only-of-type {\n",
       "        vertical-align: middle;\n",
       "    }\n",
       "\n",
       "    .dataframe tbody tr th {\n",
       "        vertical-align: top;\n",
       "    }\n",
       "\n",
       "    .dataframe thead th {\n",
       "        text-align: right;\n",
       "    }\n",
       "</style>\n",
       "<table border=\"1\" class=\"dataframe\">\n",
       "  <thead>\n",
       "    <tr style=\"text-align: right;\">\n",
       "      <th></th>\n",
       "      <th>state_abbreviation</th>\n",
       "      <th>medicaid_and_chip_child_enrollment</th>\n",
       "      <th>total_medicaid_and_chip_enrollment</th>\n",
       "      <th>total_medicaid_enrollment</th>\n",
       "      <th>total_chip_enrollment</th>\n",
       "      <th>report_month</th>\n",
       "      <th>report_year</th>\n",
       "    </tr>\n",
       "  </thead>\n",
       "  <tbody>\n",
       "    <tr>\n",
       "      <th>0</th>\n",
       "      <td>MA</td>\n",
       "      <td>665605.0</td>\n",
       "      <td>1554381.0</td>\n",
       "      <td>1370618.0</td>\n",
       "      <td>183763.0</td>\n",
       "      <td>01</td>\n",
       "      <td>2020</td>\n",
       "    </tr>\n",
       "    <tr>\n",
       "      <th>1</th>\n",
       "      <td>MA</td>\n",
       "      <td>656626.0</td>\n",
       "      <td>1530761.0</td>\n",
       "      <td>1349649.0</td>\n",
       "      <td>181112.0</td>\n",
       "      <td>02</td>\n",
       "      <td>2020</td>\n",
       "    </tr>\n",
       "    <tr>\n",
       "      <th>2</th>\n",
       "      <td>MA</td>\n",
       "      <td>669204.0</td>\n",
       "      <td>1569853.0</td>\n",
       "      <td>1383851.0</td>\n",
       "      <td>186002.0</td>\n",
       "      <td>03</td>\n",
       "      <td>2020</td>\n",
       "    </tr>\n",
       "    <tr>\n",
       "      <th>3</th>\n",
       "      <td>MA</td>\n",
       "      <td>675242.0</td>\n",
       "      <td>1593701.0</td>\n",
       "      <td>1407388.0</td>\n",
       "      <td>186313.0</td>\n",
       "      <td>04</td>\n",
       "      <td>2020</td>\n",
       "    </tr>\n",
       "    <tr>\n",
       "      <th>4</th>\n",
       "      <td>MA</td>\n",
       "      <td>679782.0</td>\n",
       "      <td>1609953.0</td>\n",
       "      <td>1422125.0</td>\n",
       "      <td>187828.0</td>\n",
       "      <td>05</td>\n",
       "      <td>2020</td>\n",
       "    </tr>\n",
       "    <tr>\n",
       "      <th>5</th>\n",
       "      <td>MA</td>\n",
       "      <td>683108.0</td>\n",
       "      <td>1624309.0</td>\n",
       "      <td>1435296.0</td>\n",
       "      <td>189013.0</td>\n",
       "      <td>06</td>\n",
       "      <td>2020</td>\n",
       "    </tr>\n",
       "    <tr>\n",
       "      <th>6</th>\n",
       "      <td>MA</td>\n",
       "      <td>687083.0</td>\n",
       "      <td>1640354.0</td>\n",
       "      <td>1450220.0</td>\n",
       "      <td>190134.0</td>\n",
       "      <td>07</td>\n",
       "      <td>2020</td>\n",
       "    </tr>\n",
       "    <tr>\n",
       "      <th>7</th>\n",
       "      <td>MA</td>\n",
       "      <td>690395.0</td>\n",
       "      <td>1656650.0</td>\n",
       "      <td>1464645.0</td>\n",
       "      <td>192005.0</td>\n",
       "      <td>08</td>\n",
       "      <td>2020</td>\n",
       "    </tr>\n",
       "    <tr>\n",
       "      <th>8</th>\n",
       "      <td>MA</td>\n",
       "      <td>694058.0</td>\n",
       "      <td>1674487.0</td>\n",
       "      <td>1480621.0</td>\n",
       "      <td>193866.0</td>\n",
       "      <td>09</td>\n",
       "      <td>2020</td>\n",
       "    </tr>\n",
       "    <tr>\n",
       "      <th>9</th>\n",
       "      <td>MA</td>\n",
       "      <td>697079.0</td>\n",
       "      <td>1693159.0</td>\n",
       "      <td>1494913.0</td>\n",
       "      <td>198246.0</td>\n",
       "      <td>10</td>\n",
       "      <td>2020</td>\n",
       "    </tr>\n",
       "    <tr>\n",
       "      <th>10</th>\n",
       "      <td>MA</td>\n",
       "      <td>699527.0</td>\n",
       "      <td>1708796.0</td>\n",
       "      <td>1509906.0</td>\n",
       "      <td>198890.0</td>\n",
       "      <td>11</td>\n",
       "      <td>2020</td>\n",
       "    </tr>\n",
       "    <tr>\n",
       "      <th>11</th>\n",
       "      <td>MA</td>\n",
       "      <td>700991.0</td>\n",
       "      <td>1720365.0</td>\n",
       "      <td>1521228.0</td>\n",
       "      <td>199137.0</td>\n",
       "      <td>12</td>\n",
       "      <td>2020</td>\n",
       "    </tr>\n",
       "  </tbody>\n",
       "</table>\n",
       "</div>"
      ],
      "text/plain": [
       "   state_abbreviation  medicaid_and_chip_child_enrollment  \\\n",
       "0                  MA                            665605.0   \n",
       "1                  MA                            656626.0   \n",
       "2                  MA                            669204.0   \n",
       "3                  MA                            675242.0   \n",
       "4                  MA                            679782.0   \n",
       "5                  MA                            683108.0   \n",
       "6                  MA                            687083.0   \n",
       "7                  MA                            690395.0   \n",
       "8                  MA                            694058.0   \n",
       "9                  MA                            697079.0   \n",
       "10                 MA                            699527.0   \n",
       "11                 MA                            700991.0   \n",
       "\n",
       "    total_medicaid_and_chip_enrollment  total_medicaid_enrollment  \\\n",
       "0                            1554381.0                  1370618.0   \n",
       "1                            1530761.0                  1349649.0   \n",
       "2                            1569853.0                  1383851.0   \n",
       "3                            1593701.0                  1407388.0   \n",
       "4                            1609953.0                  1422125.0   \n",
       "5                            1624309.0                  1435296.0   \n",
       "6                            1640354.0                  1450220.0   \n",
       "7                            1656650.0                  1464645.0   \n",
       "8                            1674487.0                  1480621.0   \n",
       "9                            1693159.0                  1494913.0   \n",
       "10                           1708796.0                  1509906.0   \n",
       "11                           1720365.0                  1521228.0   \n",
       "\n",
       "    total_chip_enrollment report_month report_year  \n",
       "0                183763.0           01        2020  \n",
       "1                181112.0           02        2020  \n",
       "2                186002.0           03        2020  \n",
       "3                186313.0           04        2020  \n",
       "4                187828.0           05        2020  \n",
       "5                189013.0           06        2020  \n",
       "6                190134.0           07        2020  \n",
       "7                192005.0           08        2020  \n",
       "8                193866.0           09        2020  \n",
       "9                198246.0           10        2020  \n",
       "10               198890.0           11        2020  \n",
       "11               199137.0           12        2020  "
      ]
     },
     "execution_count": 21,
     "metadata": {},
     "output_type": "execute_result"
    }
   ],
   "source": [
    "st_yr_fnl_df"
   ]
  },
  {
   "cell_type": "code",
   "execution_count": 22,
   "id": "4406f27e-60e8-4973-ace8-0757eee88d0b",
   "metadata": {},
   "outputs": [
    {
     "data": {
      "text/plain": [
       "medicaid_and_chip_child_enrollment    6.832250e+05\n",
       "total_medicaid_and_chip_enrollment    1.631397e+06\n",
       "total_medicaid_enrollment             1.440872e+06\n",
       "total_chip_enrollment                 1.905258e+05\n",
       "dtype: float64"
      ]
     },
     "execution_count": 22,
     "metadata": {},
     "output_type": "execute_result"
    }
   ],
   "source": [
    "st_yr_fnl_df[ENRL_COLS].mean()"
   ]
  },
  {
   "cell_type": "code",
   "execution_count": null,
   "id": "78518f8e-cd7b-482b-98e0-64c7519600c8",
   "metadata": {},
   "outputs": [],
   "source": []
  }
 ],
 "metadata": {
  "kernelspec": {
   "display_name": "Python 3 (ipykernel)",
   "language": "python",
   "name": "python3"
  },
  "language_info": {
   "codemirror_mode": {
    "name": "ipython",
    "version": 3
   },
   "file_extension": ".py",
   "mimetype": "text/x-python",
   "name": "python",
   "nbconvert_exporter": "python",
   "pygments_lexer": "ipython3",
   "version": "3.10.0"
  }
 },
 "nbformat": 4,
 "nbformat_minor": 5
}
