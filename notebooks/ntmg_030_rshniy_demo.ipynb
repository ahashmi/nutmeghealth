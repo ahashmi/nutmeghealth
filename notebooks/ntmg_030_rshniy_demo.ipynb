{
 "cells": [
  {
   "cell_type": "code",
   "execution_count": 1,
   "id": "5296dee3-8745-4b14-af81-86e9ae25f901",
   "metadata": {},
   "outputs": [
    {
     "name": "stderr",
     "output_type": "stream",
     "text": [
      "Installing packages into 'C:/Users/AliHashmi/AppData/Local/R/win-library/4.2'\n",
      "(as 'lib' is unspecified)\n",
      "\n"
     ]
    },
    {
     "name": "stdout",
     "output_type": "stream",
     "text": [
      "package 'shiny' successfully unpacked and MD5 sums checked\n",
      "package 'shinythemes' successfully unpacked and MD5 sums checked\n",
      "\n",
      "The downloaded binary packages are in\n",
      "\tC:\\Users\\AliHashmi\\AppData\\Local\\Temp\\RtmpGYEqPT\\downloaded_packages\n"
     ]
    }
   ],
   "source": [
    "install.packages(c(\"shiny\",\"shinythemes\"))"
   ]
  },
  {
   "cell_type": "code",
   "execution_count": 15,
   "id": "75aa86a7-48b2-4fcc-b004-db377d40e713",
   "metadata": {},
   "outputs": [
    {
     "name": "stderr",
     "output_type": "stream",
     "text": [
      "Installing package into 'C:/Users/AliHashmi/AppData/Local/R/win-library/4.2'\n",
      "(as 'lib' is unspecified)\n",
      "\n",
      "also installing the dependency 'snakecase'\n",
      "\n",
      "\n"
     ]
    },
    {
     "name": "stdout",
     "output_type": "stream",
     "text": [
      "package 'snakecase' successfully unpacked and MD5 sums checked\n",
      "package 'janitor' successfully unpacked and MD5 sums checked\n",
      "\n",
      "The downloaded binary packages are in\n",
      "\tC:\\Users\\AliHashmi\\AppData\\Local\\Temp\\RtmpGYEqPT\\downloaded_packages\n"
     ]
    }
   ],
   "source": [
    "install.packages(\"janitor\")"
   ]
  },
  {
   "cell_type": "code",
   "execution_count": 2,
   "id": "6e8a7c3b-380b-47b5-b27e-eb20fc130e57",
   "metadata": {},
   "outputs": [
    {
     "data": {
      "text/html": [
       "'C:/Users/AliHashmi/Desktop/Development/nutmeghealth/notebooks'"
      ],
      "text/latex": [
       "'C:/Users/AliHashmi/Desktop/Development/nutmeghealth/notebooks'"
      ],
      "text/markdown": [
       "'C:/Users/AliHashmi/Desktop/Development/nutmeghealth/notebooks'"
      ],
      "text/plain": [
       "[1] \"C:/Users/AliHashmi/Desktop/Development/nutmeghealth/notebooks\""
      ]
     },
     "metadata": {},
     "output_type": "display_data"
    }
   ],
   "source": [
    "getwd()"
   ]
  },
  {
   "cell_type": "markdown",
   "id": "359710f8-6703-4a7f-b9e6-e573a12d9955",
   "metadata": {},
   "source": [
    "# Example: A sample Shiny App to view CMS Healthcare Data\n",
    "\n",
    "By Steve Sanderson\n",
    "\n",
    "Adapted from <https://www.spsanderson.com/steveondata/posts/rtip-2023-04-03/>"
   ]
  },
  {
   "cell_type": "code",
   "execution_count": 5,
   "id": "785a1f0f-b62d-4cf4-ab34-14435eba6d24",
   "metadata": {},
   "outputs": [],
   "source": [
    "project_root <- 'C:/Users/AliHashmi/Desktop/Development/nutmeghealth'\n",
    "data_dir <- file.path(project_root, 'DATA', 'prov')"
   ]
  },
  {
   "cell_type": "code",
   "execution_count": 12,
   "id": "feecf3cc-d85c-4937-bb12-d137ebc8f8fa",
   "metadata": {},
   "outputs": [],
   "source": [
    "CMS_PROV_ROOT <- 'https://data.cms.gov/provider-data/sites/default/files/archive'\n",
    "prov_data_url <- paste(CMS_PROV_ROOT, '/Hospitals/current/hospitals_current_data.zip', sep='')"
   ]
  },
  {
   "cell_type": "code",
   "execution_count": 20,
   "id": "c95a0bda-81c6-4909-9952-19cc3bdcc9af",
   "metadata": {},
   "outputs": [],
   "source": [
    "current_hosp_data <- function() {\n",
    "\n",
    "  # URL for file\n",
    "  # url <- \"\"\n",
    "\n",
    "  # Create a temporary directory to process the zip file\n",
    "  # tmp_dir <- tempdir()\n",
    "  tmp_dir <- data_dir\n",
    "  download_location <- file.path(tmp_dir, \"download.zip\")\n",
    "  extract_location <- file.path(tmp_dir, \"extract\")\n",
    "\n",
    "  # Download the zip file to the temporary location\n",
    "  utils::download.file(\n",
    "    url = prov_data_url,\n",
    "    destfile = download_location\n",
    "  )\n",
    "\n",
    "  # Unzip the file\n",
    "  utils::unzip(download_location, exdir = extract_location)\n",
    "\n",
    "  # Read the csv files into a list\n",
    "  csv_file_list <- list.files(\n",
    "    path = extract_location,\n",
    "    pattern = \"\\\\.csv$\",\n",
    "    full.names = TRUE\n",
    "  )\n",
    "\n",
    "  # make named list\n",
    "  csv_names <-\n",
    "    stats::setNames(\n",
    "      object = csv_file_list,\n",
    "      nm =\n",
    "        csv_file_list |>\n",
    "        basename() |>\n",
    "        gsub(pattern = \"\\\\.csv$\", replacement = \"\") |>\n",
    "        janitor::make_clean_names()\n",
    "    )\n",
    "\n",
    "  # Process CSV Files\n",
    "  parse_csv_file <- function(file) {\n",
    "    # Normalize the path to use C:/path/to/file structure\n",
    "    normalizePath(file, \"/\") |>\n",
    "      # read in the csv file and use check.names = FALSE because some of\n",
    "      # the names are very long\n",
    "      utils::read.csv(check.names = FALSE) |>\n",
    "      dplyr::as_tibble() |>\n",
    "      # clean the field names\n",
    "      janitor::clean_names()\n",
    "  }\n",
    "\n",
    "  list_of_tables <- lapply(csv_names, parse_csv_file)\n",
    "\n",
    "  # unlink(tmp_dir, recursive = TRUE)\n",
    "\n",
    "  # Return the tibbles\n",
    "  # Add and attribute and a class type to the object\n",
    "  attr(list_of_tables, \".list_type\") <- \"current_hosp_data\"\n",
    "  class(list_of_tables) <- c(\"current_hosp_data\", class(list_of_tables))\n",
    "\n",
    "  list_of_tables\n",
    "}"
   ]
  },
  {
   "cell_type": "code",
   "execution_count": 22,
   "id": "5fa077f5-f5e1-4fa9-9363-54915da3ba4a",
   "metadata": {},
   "outputs": [],
   "source": [
    "hosp_data <- current_hosp_data()"
   ]
  },
  {
   "cell_type": "code",
   "execution_count": null,
   "id": "235e02dd-90dd-44d9-b71e-e33d4a438086",
   "metadata": {},
   "outputs": [],
   "source": []
  }
 ],
 "metadata": {
  "kernelspec": {
   "display_name": "R",
   "language": "R",
   "name": "ir"
  },
  "language_info": {
   "codemirror_mode": "r",
   "file_extension": ".r",
   "mimetype": "text/x-r-source",
   "name": "R",
   "pygments_lexer": "r",
   "version": "4.2.2"
  }
 },
 "nbformat": 4,
 "nbformat_minor": 5
}
